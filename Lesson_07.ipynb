{
 "cells": [
  {
   "cell_type": "markdown",
   "id": "45bce7bd-dc7e-4800-bf3a-97b09528d4bd",
   "metadata": {},
   "source": [
    "## CSC 271 - Intro to Data Science\n",
    "## Thurs, Feb 13\n",
    "## Lesson 07\n",
    "## Pandas -- working with **Series** and **DataFrame** types."
   ]
  },
  {
   "cell_type": "markdown",
   "id": "d910bd74-41a2-4672-9d43-7235969a1b3d",
   "metadata": {},
   "source": [
    "**Task 1:** Series is a 1-d data type provided by Pandas.  There are a lot of similarities to other 1-d types like lists, arrays, dictionaries, etc.  But there are also important distinctions and tools designed for Series.  Let's explore some of the basics.    \n",
    "\n",
    "https://pandas.pydata.org/docs/reference/series.html"
   ]
  },
  {
   "cell_type": "code",
   "execution_count": 2,
   "id": "9119669b-dcb7-48dc-9a91-eb169cd01ee1",
   "metadata": {},
   "outputs": [],
   "source": [
    "import numpy as np\n",
    "import matplotlib.pyplot as plt\n",
    "import pandas as pd"
   ]
  },
  {
   "cell_type": "code",
   "execution_count": 3,
   "id": "d318008d-5a12-4a3c-8418-47565b30d6ec",
   "metadata": {},
   "outputs": [
    {
     "data": {
      "text/plain": [
       "0    44\n",
       "1    23\n",
       "2    87\n",
       "3    20\n",
       "4    89\n",
       "dtype: int64"
      ]
     },
     "execution_count": 3,
     "metadata": {},
     "output_type": "execute_result"
    }
   ],
   "source": [
    "# create a Series from a list\n",
    "x = [44,23,87,20,89]\n",
    "s = pd.Series(x)\n",
    "\n",
    "s"
   ]
  },
  {
   "cell_type": "code",
   "execution_count": 4,
   "id": "41d9dfb7-32c7-498c-b505-7143c6e71c43",
   "metadata": {},
   "outputs": [
    {
     "data": {
      "text/plain": [
       "0    0.566572\n",
       "1    0.925904\n",
       "2    0.662923\n",
       "3    0.343069\n",
       "4    0.274210\n",
       "dtype: float64"
      ]
     },
     "execution_count": 4,
     "metadata": {},
     "output_type": "execute_result"
    }
   ],
   "source": [
    "# create a Series from an array\n",
    "x = np.random.rand(5)\n",
    "s = pd.Series(x)\n",
    "\n",
    "s"
   ]
  },
  {
   "cell_type": "code",
   "execution_count": 6,
   "id": "8d29f1a1-c1f7-4f39-9a60-de8d3c2c941b",
   "metadata": {},
   "outputs": [
    {
     "name": "stdout",
     "output_type": "stream",
     "text": [
      "one        eins\n",
      "two        zwei\n",
      "three      drei\n",
      "four       vier\n",
      "five       fünf\n",
      "six       sechs\n",
      "seven    sieben\n",
      "eight      acht\n",
      "dtype: object\n"
     ]
    },
    {
     "data": {
      "text/plain": [
       "'acht'"
      ]
     },
     "execution_count": 6,
     "metadata": {},
     "output_type": "execute_result"
    }
   ],
   "source": [
    "# create a Series from a dictionary\n",
    "x = {'one':'eins',\n",
    "'two':'zwei',\n",
    "'three':'drei',\n",
    "'four':'vier', \n",
    "'five':'fünf',\n",
    "'six':'sechs',\n",
    "'seven':'sieben', \n",
    "'eight':'acht'}\n",
    "\n",
    "s = pd.Series(x)\n",
    "print(s)\n",
    "s['eight']"
   ]
  },
  {
   "cell_type": "code",
   "execution_count": 7,
   "id": "2b9ab3ef-6dea-4b21-923a-ea01648528aa",
   "metadata": {},
   "outputs": [
    {
     "name": "stdout",
     "output_type": "stream",
     "text": [
      "all of s3\n",
      "0      A\n",
      "1      B\n",
      "2      C\n",
      "0    101\n",
      "1    202\n",
      "2    303\n",
      "3    404\n",
      "4    505\n",
      "dtype: object\n",
      "\n",
      "values associated with index 1\n",
      "1      B\n",
      "1    202\n",
      "dtype: object\n"
     ]
    }
   ],
   "source": [
    "# here's a big difference to these other structures ...\n",
    "\n",
    "s1 = pd.Series(['A','B','C'])\n",
    "s2 = pd.Series([101,202,303,404,505])\n",
    "\n",
    "s3 = pd.concat([s1,s2])  # <-- combine to a single series\n",
    "\n",
    "print('all of s3')\n",
    "print(s3)\n",
    "\n",
    "print('\\nvalues associated with index 1')\n",
    "print(s3[1])"
   ]
  },
  {
   "cell_type": "code",
   "execution_count": 8,
   "id": "14a6d8de-ed35-4c2e-871e-749e92c922ce",
   "metadata": {},
   "outputs": [
    {
     "name": "stdout",
     "output_type": "stream",
     "text": [
      "Owner    Value\n",
      "Mary        81\n",
      "John        52\n",
      "Mary        46\n",
      "Mary        90\n",
      "Mary        95\n",
      "John        56\n",
      "John        69\n",
      "Mary        89\n",
      "Mary        86\n",
      "dtype: object\n"
     ]
    }
   ],
   "source": [
    "# modify a Series on the fly\n",
    "\n",
    "s=pd.Series(['Value'],index=['Owner'],dtype=object)\n",
    "\n",
    "for i in range(1000):\n",
    "    if np.random.rand()<0.5:\n",
    "        name = 'John'\n",
    "    else:\n",
    "        name = 'Mary'\n",
    "\n",
    "    update = pd.Series([np.random.randint(40,100)],index=[name])\n",
    "    s=pd.concat([s,update])\n",
    "\n",
    "print(s[0:10])  # <-- note default indexing 0,1,2,... also works "
   ]
  },
  {
   "cell_type": "code",
   "execution_count": 9,
   "id": "0605cc72-04fa-4175-8703-90b6bb9d3ef9",
   "metadata": {},
   "outputs": [
    {
     "data": {
      "text/plain": [
       "Mary    81\n",
       "Mary    46\n",
       "Mary    90\n",
       "Mary    95\n",
       "Mary    89\n",
       "        ..\n",
       "Mary    67\n",
       "Mary    71\n",
       "Mary    93\n",
       "Mary    57\n",
       "Mary    65\n",
       "Length: 514, dtype: object"
      ]
     },
     "execution_count": 9,
     "metadata": {},
     "output_type": "execute_result"
    }
   ],
   "source": [
    "s['Mary']"
   ]
  },
  {
   "cell_type": "code",
   "execution_count": 10,
   "id": "c7b24d32-bd97-4f7f-95c7-87c0ccb03568",
   "metadata": {},
   "outputs": [
    {
     "name": "stdout",
     "output_type": "stream",
     "text": [
      "m count  514\n",
      "j count  486\n",
      "\n",
      "\n",
      "m total  35577\n",
      "j total  32894\n"
     ]
    }
   ],
   "source": [
    "print('m count ',len(s['Mary']))\n",
    "print('j count ',len(s['John']))\n",
    "print('\\n')\n",
    "print('m total ',np.sum(s['Mary']))\n",
    "print('j total ',np.sum(s['John']))"
   ]
  },
  {
   "cell_type": "code",
   "execution_count": null,
   "id": "6f7c7482-747f-4e14-b3e7-6c66c7c25b31",
   "metadata": {},
   "outputs": [
    {
     "data": {
      "image/png": "[encoded data removed]",
      "text/plain": [
       "<Figure size 640x480 with 1 Axes>"
      ]
     },
     "metadata": {},
     "output_type": "display_data"
    },
    {
     "data": {
      "text/plain": [
       "<Axes: ylabel='Frequency'>"
      ]
     },
     "execution_count": 11,
     "metadata": {},
     "output_type": "execute_result"
    },
    {
     "data": {
      "image/png": "[encoded data removed]",
      "text/plain": [
       "<Figure size 640x480 with 1 Axes>"
      ]
     },
     "metadata": {},
     "output_type": "display_data"
    }
   ],
   "source": [
    "# there are also a lot of graphics tools available in Pandas\n",
    "\n",
    "#using matplotlib\n",
    "plt.hist(s['John'],bins=100)\n",
    "plt.show()\n",
    "\n",
    "#using Pandas\n",
    "s['John'].plot.hist(bins=100) #pandas also has graphics"
   ]
  },
  {
   "cell_type": "markdown",
   "id": "b3a288a4-e2b3-40f4-814d-b8b429522964",
   "metadata": {
    "tags": []
   },
   "source": [
    "## Class Exercises (part 1):\n",
    "\n",
    "(1) Create a Series object for the following data that summarizes the number of sales for four weeks:\n",
    "\n",
    ">(a) Write code to display sales for Mondays only.  \n",
    "\n",
    ">(b) Write code to compute the total sales for all Mondays.\n",
    "\n",
    ">(c) Write code to display only data on sales with 15 or fewer sales.  \n",
    "\n",
    ">(d) Create a new **Series** for the daily profit if there are fixed costs of $\\$200/day$ and each sale nets $\\$15$.\n",
    "  \n",
    "\n"
   ]
  },
  {
   "cell_type": "code",
   "execution_count": null,
   "id": "d53be730-f827-46f7-a1d9-ec92548fec70",
   "metadata": {},
   "outputs": [],
   "source": [
    "sales_list=[22,12,14,30,26,19,13,15,27,28,19,12,16,18,22,21,10,13,18,24]\n",
    "day_list=['M','Tu','W','Th','F','M','Tu','W','Th','F','M','Tu','W','Th','F','M','Tu','W','Th','F']\n",
    "\n",
    "sales_s = pd.Series(sales_list,index=day_list)\n",
    "\n",
    "print(sales_s)\n",
    "\n",
    "sales_s.plot.bar();  # <-- plotting tools from Pandas"
   ]
  },
  {
   "cell_type": "code",
   "execution_count": 39,
   "id": "7482c453",
   "metadata": {},
   "outputs": [
    {
     "name": "stdout",
     "output_type": "stream",
     "text": [
      "M    22\n",
      "M    19\n",
      "M    19\n",
      "M    21\n",
      "dtype: int64\n",
      "81\n",
      "[22 12 14 30 26 19 13 15 27 28 19 12 16 18 22 21 10 13 18 24]\n",
      "[np.int64(12), np.int64(14), np.int64(13), np.int64(12), np.int64(10), np.int64(13)]\n"
     ]
    },
    {
     "data": {
      "text/plain": [
       "<Axes: >"
      ]
     },
     "execution_count": 39,
     "metadata": {},
     "output_type": "execute_result"
    },
    {
     "data": {
      "image/png": "[encoded data removed]",
      "text/plain": [
       "<Figure size 640x480 with 1 Axes>"
      ]
     },
     "metadata": {},
     "output_type": "display_data"
    }
   ],
   "source": [
    "#Question 1\n",
    "print(sales_s[\"M\"])\n",
    "total = np.sum(sales_s[\"M\"])\n",
    "print(total) #the total sums\n",
    "\n",
    "#Question 2\n",
    "sales = sales_s.values\n",
    "print(sales)\n",
    "sales_15 = [x for x in sales if x < 15]\n",
    "print(sales_15)\n",
    "\n",
    "#Question 3\n",
    "(sales_s *15-200).plot.bar()"
   ]
  },
  {
   "cell_type": "markdown",
   "id": "974cc1ca-2b1a-41a4-84f1-3e72cbc456c7",
   "metadata": {},
   "source": [
    "---\n",
    "\n",
    "## Quick Trivia Question -- What is the most popular and most widely used computational data analytics tool in the world?  \n",
    "\n",
    "---"
   ]
  },
  {
   "cell_type": "markdown",
   "id": "ed91b99e-12de-43b3-8e24-dac0e6c3c455",
   "metadata": {},
   "source": [
    "**Task 2:** The **DataFrame** type in Pandas is a data analysis workhorse.  We will use it a lot!  It is a very flexible container for data of many shapes and sizes ... and there are *many* tools associated with DataFrame objects.  \n",
    "\n",
    "https://pandas.pydata.org/docs/reference/frame.html"
   ]
  },
  {
   "cell_type": "code",
   "execution_count": 40,
   "id": "1af3b4c0-fa36-475d-8be0-e785a1c80e86",
   "metadata": {},
   "outputs": [
    {
     "data": {
      "text/html": [
       "<div>\n",
       "<style scoped>\n",
       "    .dataframe tbody tr th:only-of-type {\n",
       "        vertical-align: middle;\n",
       "    }\n",
       "\n",
       "    .dataframe tbody tr th {\n",
       "        vertical-align: top;\n",
       "    }\n",
       "\n",
       "    .dataframe thead th {\n",
       "        text-align: right;\n",
       "    }\n",
       "</style>\n",
       "<table border=\"1\" class=\"dataframe\">\n",
       "  <thead>\n",
       "    <tr style=\"text-align: right;\">\n",
       "      <th></th>\n",
       "      <th>0</th>\n",
       "      <th>1</th>\n",
       "      <th>2</th>\n",
       "      <th>3</th>\n",
       "      <th>4</th>\n",
       "      <th>5</th>\n",
       "    </tr>\n",
       "  </thead>\n",
       "  <tbody>\n",
       "    <tr>\n",
       "      <th>0</th>\n",
       "      <td>2</td>\n",
       "      <td>3</td>\n",
       "      <td>8</td>\n",
       "      <td>5</td>\n",
       "      <td>8</td>\n",
       "      <td>5</td>\n",
       "    </tr>\n",
       "    <tr>\n",
       "      <th>1</th>\n",
       "      <td>92</td>\n",
       "      <td>86</td>\n",
       "      <td>61</td>\n",
       "      <td>70</td>\n",
       "      <td>19</td>\n",
       "      <td>10</td>\n",
       "    </tr>\n",
       "    <tr>\n",
       "      <th>2</th>\n",
       "      <td>133</td>\n",
       "      <td>242</td>\n",
       "      <td>623</td>\n",
       "      <td>151</td>\n",
       "      <td>685</td>\n",
       "      <td>298</td>\n",
       "    </tr>\n",
       "    <tr>\n",
       "      <th>3</th>\n",
       "      <td>2784</td>\n",
       "      <td>1280</td>\n",
       "      <td>7313</td>\n",
       "      <td>5622</td>\n",
       "      <td>1028</td>\n",
       "      <td>6676</td>\n",
       "    </tr>\n",
       "  </tbody>\n",
       "</table>\n",
       "</div>"
      ],
      "text/plain": [
       "      0     1     2     3     4     5\n",
       "0     2     3     8     5     8     5\n",
       "1    92    86    61    70    19    10\n",
       "2   133   242   623   151   685   298\n",
       "3  2784  1280  7313  5622  1028  6676"
      ]
     },
     "execution_count": 40,
     "metadata": {},
     "output_type": "execute_result"
    }
   ],
   "source": [
    "# Let's try out a simple df created from a list of lists \n",
    "\n",
    "lst=[[2,3,8,5,8,5],[92,86,61,70,19,10],[133,242,623,151,685,298],[2784,1280,7313,5622,1028,6676]]\n",
    "df = pd.DataFrame(lst)\n",
    "\n",
    "df"
   ]
  },
  {
   "cell_type": "code",
   "execution_count": 41,
   "id": "7bb0afbe-40c4-4210-ae46-f151e5e2f32c",
   "metadata": {},
   "outputs": [
    {
     "name": "stdout",
     "output_type": "stream",
     "text": [
      "0       2\n",
      "1      92\n",
      "2     133\n",
      "3    2784\n",
      "Name: 0, dtype: int64\n"
     ]
    }
   ],
   "source": [
    "print(df[0]) # <-- CAUTION! By column, not row!  "
   ]
  },
  {
   "cell_type": "code",
   "execution_count": 42,
   "id": "5e3c4695-ee80-426c-b131-f547c5933635",
   "metadata": {},
   "outputs": [
    {
     "name": "stdout",
     "output_type": "stream",
     "text": [
      "<class 'pandas.core.frame.DataFrame'>\n",
      "<class 'pandas.core.series.Series'>\n"
     ]
    }
   ],
   "source": [
    "# Note how Pandas uses types ... each column of a DataFrame is a Series!\n",
    "print(type(df))\n",
    "print(type(df[0]))"
   ]
  },
  {
   "cell_type": "code",
   "execution_count": 43,
   "id": "c4f60bd3-6688-4d6d-9b5f-1e56f20f8752",
   "metadata": {},
   "outputs": [
    {
     "data": {
      "text/html": [
       "<div>\n",
       "<style scoped>\n",
       "    .dataframe tbody tr th:only-of-type {\n",
       "        vertical-align: middle;\n",
       "    }\n",
       "\n",
       "    .dataframe tbody tr th {\n",
       "        vertical-align: top;\n",
       "    }\n",
       "\n",
       "    .dataframe thead th {\n",
       "        text-align: right;\n",
       "    }\n",
       "</style>\n",
       "<table border=\"1\" class=\"dataframe\">\n",
       "  <thead>\n",
       "    <tr style=\"text-align: right;\">\n",
       "      <th></th>\n",
       "      <th>0</th>\n",
       "      <th>1</th>\n",
       "      <th>2</th>\n",
       "      <th>3</th>\n",
       "    </tr>\n",
       "  </thead>\n",
       "  <tbody>\n",
       "    <tr>\n",
       "      <th>0</th>\n",
       "      <td>2</td>\n",
       "      <td>92</td>\n",
       "      <td>133</td>\n",
       "      <td>2784</td>\n",
       "    </tr>\n",
       "    <tr>\n",
       "      <th>1</th>\n",
       "      <td>3</td>\n",
       "      <td>86</td>\n",
       "      <td>242</td>\n",
       "      <td>1280</td>\n",
       "    </tr>\n",
       "    <tr>\n",
       "      <th>2</th>\n",
       "      <td>8</td>\n",
       "      <td>61</td>\n",
       "      <td>623</td>\n",
       "      <td>7313</td>\n",
       "    </tr>\n",
       "    <tr>\n",
       "      <th>3</th>\n",
       "      <td>5</td>\n",
       "      <td>70</td>\n",
       "      <td>151</td>\n",
       "      <td>5622</td>\n",
       "    </tr>\n",
       "    <tr>\n",
       "      <th>4</th>\n",
       "      <td>8</td>\n",
       "      <td>19</td>\n",
       "      <td>685</td>\n",
       "      <td>1028</td>\n",
       "    </tr>\n",
       "    <tr>\n",
       "      <th>5</th>\n",
       "      <td>5</td>\n",
       "      <td>10</td>\n",
       "      <td>298</td>\n",
       "      <td>6676</td>\n",
       "    </tr>\n",
       "  </tbody>\n",
       "</table>\n",
       "</div>"
      ],
      "text/plain": [
       "   0   1    2     3\n",
       "0  2  92  133  2784\n",
       "1  3  86  242  1280\n",
       "2  8  61  623  7313\n",
       "3  5  70  151  5622\n",
       "4  8  19  685  1028\n",
       "5  5  10  298  6676"
      ]
     },
     "execution_count": 43,
     "metadata": {},
     "output_type": "execute_result"
    }
   ],
   "source": [
    "# an important operation -- Transpose\n",
    "new_df = df.T\n",
    "\n",
    "new_df"
   ]
  },
  {
   "cell_type": "code",
   "execution_count": 46,
   "id": "e921a7a7-b542-4685-b7c6-f66a6d608cca",
   "metadata": {},
   "outputs": [
    {
     "data": {
      "image/png": "[encoded data removed]",
      "text/plain": [
       "<Figure size 640x480 with 1 Axes>"
      ]
     },
     "metadata": {},
     "output_type": "display_data"
    },
    {
     "data": {
      "image/png": "[encoded data removed]",
      "text/plain": [
       "<Figure size 640x480 with 1 Axes>"
      ]
     },
     "metadata": {},
     "output_type": "display_data"
    },
    {
     "data": {
      "image/png": "[encoded data removed]",
      "text/plain": [
       "<Figure size 640x480 with 6 Axes>"
      ]
     },
     "metadata": {},
     "output_type": "display_data"
    },
    {
     "data": {
      "image/png": "[encoded data removed]",
      "text/plain": [
       "<Figure size 640x480 with 1 Axes>"
      ]
     },
     "metadata": {},
     "output_type": "display_data"
    }
   ],
   "source": [
    "# And there are tons of built in tools...\n",
    "df.plot.bar();\n",
    "df.T.plot.barh(stacked=True);\n",
    "df.plot.hist(subplots=True)\n",
    "df.T.plot.box();"
   ]
  },
  {
   "cell_type": "code",
   "execution_count": 47,
   "id": "cc444bf7-4715-4217-a8fe-389745573c5a",
   "metadata": {},
   "outputs": [
    {
     "data": {
      "text/html": [
       "<div>\n",
       "<style scoped>\n",
       "    .dataframe tbody tr th:only-of-type {\n",
       "        vertical-align: middle;\n",
       "    }\n",
       "\n",
       "    .dataframe tbody tr th {\n",
       "        vertical-align: top;\n",
       "    }\n",
       "\n",
       "    .dataframe thead th {\n",
       "        text-align: right;\n",
       "    }\n",
       "</style>\n",
       "<table border=\"1\" class=\"dataframe\">\n",
       "  <thead>\n",
       "    <tr style=\"text-align: right;\">\n",
       "      <th></th>\n",
       "      <th>Beta</th>\n",
       "      <th>Delt</th>\n",
       "      <th>PhiPsi</th>\n",
       "      <th>Fiji</th>\n",
       "      <th>TKE</th>\n",
       "    </tr>\n",
       "  </thead>\n",
       "  <tbody>\n",
       "    <tr>\n",
       "      <th>week 1</th>\n",
       "      <td>3</td>\n",
       "      <td>2</td>\n",
       "      <td>9</td>\n",
       "      <td>4</td>\n",
       "      <td>3</td>\n",
       "    </tr>\n",
       "    <tr>\n",
       "      <th>week 2</th>\n",
       "      <td>5</td>\n",
       "      <td>1</td>\n",
       "      <td>3</td>\n",
       "      <td>0</td>\n",
       "      <td>7</td>\n",
       "    </tr>\n",
       "    <tr>\n",
       "      <th>week 3</th>\n",
       "      <td>2</td>\n",
       "      <td>3</td>\n",
       "      <td>2</td>\n",
       "      <td>5</td>\n",
       "      <td>2</td>\n",
       "    </tr>\n",
       "    <tr>\n",
       "      <th>week 4</th>\n",
       "      <td>8</td>\n",
       "      <td>2</td>\n",
       "      <td>5</td>\n",
       "      <td>6</td>\n",
       "      <td>1</td>\n",
       "    </tr>\n",
       "  </tbody>\n",
       "</table>\n",
       "</div>"
      ],
      "text/plain": [
       "        Beta  Delt  PhiPsi  Fiji  TKE\n",
       "week 1     3     2       9     4    3\n",
       "week 2     5     1       3     0    7\n",
       "week 3     2     3       2     5    2\n",
       "week 4     8     2       5     6    1"
      ]
     },
     "execution_count": 47,
     "metadata": {},
     "output_type": "execute_result"
    }
   ],
   "source": [
    "# Let's try a DataFrame constructed from a dictionary\n",
    "\n",
    "data ={\n",
    "'Beta':[3,5,2,8],\n",
    "'Delt':[2,1,3,2],\n",
    "'PhiPsi':[9,3,2,5],\n",
    "'Fiji':[4,0,5,6],\n",
    "'TKE':[3,7,2,1],  \n",
    "}\n",
    "\n",
    "greek_df = pd.DataFrame(data,index=['week 1','week 2','week 3','week 4'])\n",
    "\n",
    "greek_df"
   ]
  },
  {
   "cell_type": "code",
   "execution_count": 48,
   "id": "ee910307-f0e2-4be5-9aa4-12957a4357aa",
   "metadata": {},
   "outputs": [
    {
     "data": {
      "text/html": [
       "<div>\n",
       "<style scoped>\n",
       "    .dataframe tbody tr th:only-of-type {\n",
       "        vertical-align: middle;\n",
       "    }\n",
       "\n",
       "    .dataframe tbody tr th {\n",
       "        vertical-align: top;\n",
       "    }\n",
       "\n",
       "    .dataframe thead th {\n",
       "        text-align: right;\n",
       "    }\n",
       "</style>\n",
       "<table border=\"1\" class=\"dataframe\">\n",
       "  <thead>\n",
       "    <tr style=\"text-align: right;\">\n",
       "      <th></th>\n",
       "      <th>Beta</th>\n",
       "      <th>Delt</th>\n",
       "      <th>PhiPsi</th>\n",
       "    </tr>\n",
       "  </thead>\n",
       "  <tbody>\n",
       "    <tr>\n",
       "      <th>week 3</th>\n",
       "      <td>2</td>\n",
       "      <td>3</td>\n",
       "      <td>2</td>\n",
       "    </tr>\n",
       "    <tr>\n",
       "      <th>week 4</th>\n",
       "      <td>8</td>\n",
       "      <td>2</td>\n",
       "      <td>5</td>\n",
       "    </tr>\n",
       "  </tbody>\n",
       "</table>\n",
       "</div>"
      ],
      "text/plain": [
       "        Beta  Delt  PhiPsi\n",
       "week 3     2     3       2\n",
       "week 4     8     2       5"
      ]
     },
     "execution_count": 48,
     "metadata": {},
     "output_type": "execute_result"
    }
   ],
   "source": [
    "# We can use array index notation for defining slices\n",
    "# and/or subsets of dataframes using the iloc function\n",
    "\n",
    "greek_df.iloc[2:,0:3]"
   ]
  },
  {
   "cell_type": "code",
   "execution_count": 49,
   "id": "04d1b015-95c4-4efe-92b2-f43a9c921782",
   "metadata": {},
   "outputs": [
    {
     "data": {
      "text/html": [
       "<div>\n",
       "<style scoped>\n",
       "    .dataframe tbody tr th:only-of-type {\n",
       "        vertical-align: middle;\n",
       "    }\n",
       "\n",
       "    .dataframe tbody tr th {\n",
       "        vertical-align: top;\n",
       "    }\n",
       "\n",
       "    .dataframe thead th {\n",
       "        text-align: right;\n",
       "    }\n",
       "</style>\n",
       "<table border=\"1\" class=\"dataframe\">\n",
       "  <thead>\n",
       "    <tr style=\"text-align: right;\">\n",
       "      <th></th>\n",
       "      <th>Beta</th>\n",
       "      <th>Delt</th>\n",
       "      <th>PhiPsi</th>\n",
       "      <th>Fiji</th>\n",
       "      <th>TKE</th>\n",
       "    </tr>\n",
       "  </thead>\n",
       "  <tbody>\n",
       "    <tr>\n",
       "      <th>week 3</th>\n",
       "      <td>2</td>\n",
       "      <td>3</td>\n",
       "      <td>2</td>\n",
       "      <td>5</td>\n",
       "      <td>2</td>\n",
       "    </tr>\n",
       "    <tr>\n",
       "      <th>week 1</th>\n",
       "      <td>3</td>\n",
       "      <td>2</td>\n",
       "      <td>9</td>\n",
       "      <td>4</td>\n",
       "      <td>3</td>\n",
       "    </tr>\n",
       "    <tr>\n",
       "      <th>week 2</th>\n",
       "      <td>5</td>\n",
       "      <td>1</td>\n",
       "      <td>3</td>\n",
       "      <td>0</td>\n",
       "      <td>7</td>\n",
       "    </tr>\n",
       "    <tr>\n",
       "      <th>week 4</th>\n",
       "      <td>8</td>\n",
       "      <td>2</td>\n",
       "      <td>5</td>\n",
       "      <td>6</td>\n",
       "      <td>1</td>\n",
       "    </tr>\n",
       "  </tbody>\n",
       "</table>\n",
       "</div>"
      ],
      "text/plain": [
       "        Beta  Delt  PhiPsi  Fiji  TKE\n",
       "week 3     2     3       2     5    2\n",
       "week 1     3     2       9     4    3\n",
       "week 2     5     1       3     0    7\n",
       "week 4     8     2       5     6    1"
      ]
     },
     "execution_count": 49,
     "metadata": {},
     "output_type": "execute_result"
    }
   ],
   "source": [
    "# sort by column\n",
    "\n",
    "greek_df.sort_values(by='Beta')"
   ]
  },
  {
   "cell_type": "code",
   "execution_count": 50,
   "id": "46aa1834-0d74-48a7-8840-6bb97e90fbf0",
   "metadata": {},
   "outputs": [],
   "source": [
    "# Let's look at an example of a df created from list of dictionaries\n",
    "\n",
    "monon_data=[\n",
    "{'Year':1890, 'Winner':'DePauw', 'Score':[34,5]},\n",
    "{'Year':1891, 'Winner':'DePauw', 'Score':[1,0]},\n",
    "{'Year':1892, 'Winner':'DePauw', 'Score':[42,4]},\n",
    "{'Year':1893, 'Winner':'DePauw', 'Score':[48,34]},\n",
    "{'Year':1894, 'Winner':'Wabash', 'Score':[16,4]},\n",
    "{'Year':1895, 'Winner':'Wabash', 'Score':[6,0]},\n",
    "{'Year':1896, 'Winner':'DePauw', 'Score':[20,0]},\n",
    "{'Year':1900, 'Winner':'Wabash', 'Score':[6,0]},\n",
    "{'Year':1900, 'Winner':'DePauw', 'Score':[26,11]},\n",
    "{'Year':1901, 'Winner':'DePauw', 'Score':[31,2]},\n",
    "{'Year':1901, 'Winner':'DePauw', 'Score':[35,5]},\n",
    "{'Year':1903, 'Winner':'Wabash', 'Score':[10,0]},\n",
    "{'Year':1905, 'Winner':'Wabash', 'Score':[52,0]},\n",
    "{'Year':1906, 'Winner':'Wabash', 'Score':[7,0]},\n",
    "{'Year':1907, 'Winner':'Wabash', 'Score':[11,4]},\n",
    "{'Year':1908, 'Winner':'Wabash', 'Score':[12,0]},\n",
    "{'Year':1909, 'Winner':'Tie', 'Score':[0,0]},\n",
    "{'Year':1911, 'Winner':'Tie', 'Score':[0,0]},\n",
    "{'Year':1912, 'Winner':'Wabash', 'Score':[62,0]},\n",
    "{'Year':1913, 'Winner':'DePauw', 'Score':[7,0]},\n",
    "{'Year':1914, 'Winner':'DePauw', 'Score':[3,0]},\n",
    "{'Year':1915, 'Winner':'Wabash', 'Score':[34,0]},\n",
    "{'Year':1916, 'Winner':'Wabash', 'Score':[26,13]},\n",
    "{'Year':1917, 'Winner':'DePauw', 'Score':[7,0]},\n",
    "{'Year':1918, 'Winner':'DePauw', 'Score':[28,6]},\n",
    "{'Year':1919, 'Winner':'Tie', 'Score':[0,0]},\n",
    "{'Year':1920, 'Winner':'DePauw', 'Score':[3,0]},\n",
    "{'Year':1921, 'Winner':'Wabash', 'Score':[22,0]},\n",
    "{'Year':1922, 'Winner':'Wabash', 'Score':[30,0]},\n",
    "{'Year':1923, 'Winner':'Wabash', 'Score':[17,0]},\n",
    "{'Year':1924, 'Winner':'Wabash', 'Score':[21,0]},\n",
    "{'Year':1925, 'Winner':'Wabash', 'Score':[22,0]},\n",
    "{'Year':1926, 'Winner':'Wabash', 'Score':[6,0]},\n",
    "{'Year':1927, 'Winner':'Wabash', 'Score':[13,7]},\n",
    "{'Year':1928, 'Winner':'DePauw', 'Score':[20,12]},\n",
    "{'Year':1929, 'Winner':'Wabash', 'Score':[8,7]},\n",
    "{'Year':1930, 'Winner':'DePauw', 'Score':[7,6]},\n",
    "{'Year':1931, 'Winner':'DePauw', 'Score':[13,7]},\n",
    "{'Year':1932, 'Winner':'Tie', 'Score':[0,0]},\n",
    "{'Year':1933, 'Winner':'DePauw', 'Score':[14,0]},\n",
    "{'Year':1934, 'Winner':'Wabash', 'Score':[7,6]},\n",
    "{'Year':1935, 'Winner':'Tie', 'Score':[0,0]},\n",
    "{'Year':1936, 'Winner':'Wabash', 'Score':[19,0]},\n",
    "{'Year':1937, 'Winner':'DePauw', 'Score':[32,0]},\n",
    "{'Year':1938, 'Winner':'DePauw', 'Score':[7,0]},\n",
    "{'Year':1939, 'Winner':'DePauw', 'Score':[7,0]},\n",
    "{'Year':1940, 'Winner':'Wabash', 'Score':[17,13]},\n",
    "{'Year':1941, 'Winner':'Wabash', 'Score':[27,19]},\n",
    "{'Year':1942, 'Winner':'DePauw', 'Score':[6,3]},\n",
    "{'Year':1943, 'Winner':'DePauw', 'Score':[33,0]},\n",
    "{'Year':1944, 'Winner':'Wabash', 'Score':[14,7]},\n",
    "{'Year':1945, 'Winner':'DePauw', 'Score':[13,7]},\n",
    "{'Year':1946, 'Winner':'Wabash', 'Score':[26,0]},\n",
    "{'Year':1947, 'Winner':'Wabash', 'Score':[27,7]},\n",
    "{'Year':1948, 'Winner':'DePauw', 'Score':[8,0]},\n",
    "{'Year':1949, 'Winner':'Wabash', 'Score':[25,21]},\n",
    "{'Year':1950, 'Winner':'Wabash', 'Score':[34,20]},\n",
    "{'Year':1951, 'Winner':'Wabash', 'Score':[41,12]},\n",
    "{'Year':1952, 'Winner':'Wabash', 'Score':[47,0]},\n",
    "{'Year':1953, 'Winner':'Wabash', 'Score':[41,0]},\n",
    "{'Year':1954, 'Winner':'Wabash', 'Score':[28,0]},\n",
    "{'Year':1955, 'Winner':'DePauw', 'Score':[23,20]},\n",
    "{'Year':1956, 'Winner':'Tie', 'Score':[7,7]},\n",
    "{'Year':1957, 'Winner':'DePauw', 'Score':[37,6]},\n",
    "{'Year':1958, 'Winner':'DePauw', 'Score':[24,8]},\n",
    "{'Year':1959, 'Winner':'Tie', 'Score':[6,6]},\n",
    "{'Year':1960, 'Winner':'DePauw', 'Score':[14,13]},\n",
    "{'Year':1961, 'Winner':'DePauw', 'Score':[20,7]},\n",
    "{'Year':1962, 'Winner':'DePauw', 'Score':[13,10]},\n",
    "{'Year':1963, 'Winner':'DePauw', 'Score':[17,0]},\n",
    "{'Year':1964, 'Winner':'DePauw', 'Score':[22,21]},\n",
    "{'Year':1965, 'Winner':'Wabash', 'Score':[16,6]},\n",
    "{'Year':1966, 'Winner':'DePauw', 'Score':[9,7]},\n",
    "{'Year':1967, 'Winner':'Wabash', 'Score':[7,0]},\n",
    "{'Year':1968, 'Winner':'DePauw', 'Score':[18,7]},\n",
    "{'Year':1969, 'Winner':'DePauw', 'Score':[17,7]},\n",
    "{'Year':1970, 'Winner':'DePauw', 'Score':[14,13]},  \n",
    "{'Year':1971, 'Winner':'Wabash', 'Score':[16,7]},\n",
    "{'Year':1972, 'Winner':'Wabash', 'Score':[20,14]},\n",
    "{'Year':1973, 'Winner':'DePauw', 'Score':[28,21]},\n",
    "{'Year':1974, 'Winner':'DePauw', 'Score':[15,12]},\n",
    "{'Year':1975, 'Winner':'DePauw', 'Score':[14,8]},\n",
    "{'Year':1976, 'Winner':'Wabash', 'Score':[14,7]},\n",
    "{'Year':1977, 'Winner':'Wabash', 'Score':[30,6]},\n",
    "{'Year':1978, 'Winner':'Wabash', 'Score':[11,3]},\n",
    "{'Year':1979, 'Winner':'Wabash', 'Score':[16,13]},\n",
    "{'Year':1980, 'Winner':'Tie', 'Score':[22,22]},\n",
    "{'Year':1981, 'Winner':'DePauw', 'Score':[21,14]},\n",
    "{'Year':1982, 'Winner':'Wabash', 'Score':[31,6]},\n",
    "{'Year':1983, 'Winner':'DePauw', 'Score':[16,10]},\n",
    "{'Year':1984, 'Winner':'Wabash', 'Score':[41,26]},\n",
    "{'Year':1985, 'Winner':'Wabash', 'Score':[28,8]},\n",
    "{'Year':1986, 'Winner':'Wabash', 'Score':[24,23]},\n",
    "{'Year':1987, 'Winner':'DePauw', 'Score':[33,11]},\n",
    "{'Year':1988, 'Winner':'DePauw', 'Score':[24,14]},\n",
    "{'Year':1989, 'Winner':'DePauw', 'Score':[41,14]},\n",
    "{'Year':1990, 'Winner':'DePauw', 'Score':[20,13]},\n",
    "{'Year':1991, 'Winner':'Wabash', 'Score':[23,18]},\n",
    "{'Year':1992, 'Winner':'Tie', 'Score':[17,17]},\n",
    "{'Year':1993, 'Winner':'Wabash', 'Score':[40,26]},\n",
    "{'Year':1994, 'Winner':'Wabash', 'Score':[28,24]},\n",
    "{'Year':1995, 'Winner':'Wabash', 'Score':[7,2]},\n",
    "{'Year':1996, 'Winner':'DePauw', 'Score':[31,13]},\n",
    "{'Year':1997, 'Winner':'DePauw', 'Score':[14,7]},\n",
    "{'Year':1998, 'Winner':'DePauw', 'Score':[42,7]},\n",
    "{'Year':1999, 'Winner':'DePauw', 'Score':[21,7]},\n",
    "{'Year':2000, 'Winner':'DePauw', 'Score':[27,17]},\n",
    "{'Year':2001, 'Winner':'Wabash', 'Score':[27,21]},\n",
    "{'Year':2002, 'Winner':'Wabash', 'Score':[35,7]},\n",
    "{'Year':2003, 'Winner':'Wabash', 'Score':[37,20]},\n",
    "{'Year':2004, 'Winner':'DePauw', 'Score':[14,7]},\n",
    "{'Year':2005, 'Winner':'Wabash', 'Score':[17,14]},\n",
    "{'Year':2006, 'Winner':'Wabash', 'Score':[23,20]},\n",
    "{'Year':2007, 'Winner':'DePauw', 'Score':[24,21]},\n",
    "{'Year':2008, 'Winner':'DePauw', 'Score':[36,14]},\n",
    "{'Year':2009, 'Winner':'Wabash', 'Score':[32,19]},\n",
    "{'Year':2010, 'Winner':'Wabash', 'Score':[47,0]},\n",
    "{'Year':2011, 'Winner':'Wabash', 'Score':[45,7]},\n",
    "{'Year':2012, 'Winner':'Wabash', 'Score':[23,0]},\n",
    "{'Year':2013, 'Winner':'Wabash', 'Score':[38,21]},\n",
    "{'Year':2014, 'Winner':'Wabash', 'Score':[27,3]},\n",
    "{'Year':2015, 'Winner':'Wabash', 'Score':[45,17]},\n",
    "{'Year':2016, 'Winner':'DePauw', 'Score':[37,34]},\n",
    "{'Year':2017, 'Winner':'Wabash', 'Score':[22,21]},\n",
    "{'Year':2018, 'Winner':'Wabash', 'Score':[24,17]},\n",
    "{'Year':2019, 'Winner':'DePauw', 'Score':[17,13]},\n",
    "{'Year':2020, 'Winner':'Covid-19', 'Score':[None,None]},\n",
    "{'Year':2021, 'Winner':'Wabash', 'Score':[42,35]},\n",
    "{'Year':2022, 'Winner':'DePauw', 'Score':[49,14]},\n",
    "{'Year':2023, 'Winner':'DePauw', 'Score':[33,30]},\n",
    "{'Year':2024, 'Winner':'DePauw', 'Score':[42,21]}\n",
    "]"
   ]
  },
  {
   "cell_type": "code",
   "execution_count": 51,
   "id": "7d4cc657-2bb1-41fc-92f8-857f97cd7f19",
   "metadata": {},
   "outputs": [
    {
     "data": {
      "text/html": [
       "<div>\n",
       "<style scoped>\n",
       "    .dataframe tbody tr th:only-of-type {\n",
       "        vertical-align: middle;\n",
       "    }\n",
       "\n",
       "    .dataframe tbody tr th {\n",
       "        vertical-align: top;\n",
       "    }\n",
       "\n",
       "    .dataframe thead th {\n",
       "        text-align: right;\n",
       "    }\n",
       "</style>\n",
       "<table border=\"1\" class=\"dataframe\">\n",
       "  <thead>\n",
       "    <tr style=\"text-align: right;\">\n",
       "      <th></th>\n",
       "      <th>Year</th>\n",
       "      <th>Winner</th>\n",
       "      <th>Score</th>\n",
       "    </tr>\n",
       "  </thead>\n",
       "  <tbody>\n",
       "    <tr>\n",
       "      <th>0</th>\n",
       "      <td>1890</td>\n",
       "      <td>DePauw</td>\n",
       "      <td>[34, 5]</td>\n",
       "    </tr>\n",
       "    <tr>\n",
       "      <th>1</th>\n",
       "      <td>1891</td>\n",
       "      <td>DePauw</td>\n",
       "      <td>[1, 0]</td>\n",
       "    </tr>\n",
       "    <tr>\n",
       "      <th>2</th>\n",
       "      <td>1892</td>\n",
       "      <td>DePauw</td>\n",
       "      <td>[42, 4]</td>\n",
       "    </tr>\n",
       "    <tr>\n",
       "      <th>3</th>\n",
       "      <td>1893</td>\n",
       "      <td>DePauw</td>\n",
       "      <td>[48, 34]</td>\n",
       "    </tr>\n",
       "    <tr>\n",
       "      <th>4</th>\n",
       "      <td>1894</td>\n",
       "      <td>Wabash</td>\n",
       "      <td>[16, 4]</td>\n",
       "    </tr>\n",
       "    <tr>\n",
       "      <th>...</th>\n",
       "      <td>...</td>\n",
       "      <td>...</td>\n",
       "      <td>...</td>\n",
       "    </tr>\n",
       "    <tr>\n",
       "      <th>126</th>\n",
       "      <td>2020</td>\n",
       "      <td>Covid-19</td>\n",
       "      <td>[None, None]</td>\n",
       "    </tr>\n",
       "    <tr>\n",
       "      <th>127</th>\n",
       "      <td>2021</td>\n",
       "      <td>Wabash</td>\n",
       "      <td>[42, 35]</td>\n",
       "    </tr>\n",
       "    <tr>\n",
       "      <th>128</th>\n",
       "      <td>2022</td>\n",
       "      <td>DePauw</td>\n",
       "      <td>[49, 14]</td>\n",
       "    </tr>\n",
       "    <tr>\n",
       "      <th>129</th>\n",
       "      <td>2023</td>\n",
       "      <td>DePauw</td>\n",
       "      <td>[33, 30]</td>\n",
       "    </tr>\n",
       "    <tr>\n",
       "      <th>130</th>\n",
       "      <td>2024</td>\n",
       "      <td>DePauw</td>\n",
       "      <td>[42, 21]</td>\n",
       "    </tr>\n",
       "  </tbody>\n",
       "</table>\n",
       "<p>131 rows × 3 columns</p>\n",
       "</div>"
      ],
      "text/plain": [
       "     Year    Winner         Score\n",
       "0    1890    DePauw       [34, 5]\n",
       "1    1891    DePauw        [1, 0]\n",
       "2    1892    DePauw       [42, 4]\n",
       "3    1893    DePauw      [48, 34]\n",
       "4    1894    Wabash       [16, 4]\n",
       "..    ...       ...           ...\n",
       "126  2020  Covid-19  [None, None]\n",
       "127  2021    Wabash      [42, 35]\n",
       "128  2022    DePauw      [49, 14]\n",
       "129  2023    DePauw      [33, 30]\n",
       "130  2024    DePauw      [42, 21]\n",
       "\n",
       "[131 rows x 3 columns]"
      ]
     },
     "execution_count": 51,
     "metadata": {},
     "output_type": "execute_result"
    }
   ],
   "source": [
    "monon_df = pd.DataFrame(monon_data)\n",
    "\n",
    "monon_df"
   ]
  },
  {
   "cell_type": "code",
   "execution_count": 52,
   "id": "feb46df4-23fe-4c15-8c63-d36f5306d574",
   "metadata": {},
   "outputs": [
    {
     "data": {
      "text/plain": [
       "0        DePauw\n",
       "1        DePauw\n",
       "2        DePauw\n",
       "3        DePauw\n",
       "4        Wabash\n",
       "         ...   \n",
       "126    Covid-19\n",
       "127      Wabash\n",
       "128      DePauw\n",
       "129      DePauw\n",
       "130      DePauw\n",
       "Name: Winner, Length: 131, dtype: object"
      ]
     },
     "execution_count": 52,
     "metadata": {},
     "output_type": "execute_result"
    }
   ],
   "source": [
    "monon_df['Winner']"
   ]
  },
  {
   "cell_type": "code",
   "execution_count": 53,
   "id": "c2ab8c7a-6b12-47a5-a448-2471fe497c67",
   "metadata": {},
   "outputs": [
    {
     "data": {
      "text/html": [
       "<div>\n",
       "<style scoped>\n",
       "    .dataframe tbody tr th:only-of-type {\n",
       "        vertical-align: middle;\n",
       "    }\n",
       "\n",
       "    .dataframe tbody tr th {\n",
       "        vertical-align: top;\n",
       "    }\n",
       "\n",
       "    .dataframe thead th {\n",
       "        text-align: right;\n",
       "    }\n",
       "</style>\n",
       "<table border=\"1\" class=\"dataframe\">\n",
       "  <thead>\n",
       "    <tr style=\"text-align: right;\">\n",
       "      <th></th>\n",
       "      <th>Year</th>\n",
       "      <th>Winner</th>\n",
       "      <th>Score</th>\n",
       "    </tr>\n",
       "  </thead>\n",
       "  <tbody>\n",
       "    <tr>\n",
       "      <th>111</th>\n",
       "      <td>2005</td>\n",
       "      <td>Wabash</td>\n",
       "      <td>[17, 14]</td>\n",
       "    </tr>\n",
       "    <tr>\n",
       "      <th>112</th>\n",
       "      <td>2006</td>\n",
       "      <td>Wabash</td>\n",
       "      <td>[23, 20]</td>\n",
       "    </tr>\n",
       "    <tr>\n",
       "      <th>115</th>\n",
       "      <td>2009</td>\n",
       "      <td>Wabash</td>\n",
       "      <td>[32, 19]</td>\n",
       "    </tr>\n",
       "    <tr>\n",
       "      <th>116</th>\n",
       "      <td>2010</td>\n",
       "      <td>Wabash</td>\n",
       "      <td>[47, 0]</td>\n",
       "    </tr>\n",
       "    <tr>\n",
       "      <th>117</th>\n",
       "      <td>2011</td>\n",
       "      <td>Wabash</td>\n",
       "      <td>[45, 7]</td>\n",
       "    </tr>\n",
       "    <tr>\n",
       "      <th>118</th>\n",
       "      <td>2012</td>\n",
       "      <td>Wabash</td>\n",
       "      <td>[23, 0]</td>\n",
       "    </tr>\n",
       "    <tr>\n",
       "      <th>119</th>\n",
       "      <td>2013</td>\n",
       "      <td>Wabash</td>\n",
       "      <td>[38, 21]</td>\n",
       "    </tr>\n",
       "    <tr>\n",
       "      <th>120</th>\n",
       "      <td>2014</td>\n",
       "      <td>Wabash</td>\n",
       "      <td>[27, 3]</td>\n",
       "    </tr>\n",
       "    <tr>\n",
       "      <th>121</th>\n",
       "      <td>2015</td>\n",
       "      <td>Wabash</td>\n",
       "      <td>[45, 17]</td>\n",
       "    </tr>\n",
       "    <tr>\n",
       "      <th>123</th>\n",
       "      <td>2017</td>\n",
       "      <td>Wabash</td>\n",
       "      <td>[22, 21]</td>\n",
       "    </tr>\n",
       "    <tr>\n",
       "      <th>124</th>\n",
       "      <td>2018</td>\n",
       "      <td>Wabash</td>\n",
       "      <td>[24, 17]</td>\n",
       "    </tr>\n",
       "    <tr>\n",
       "      <th>127</th>\n",
       "      <td>2021</td>\n",
       "      <td>Wabash</td>\n",
       "      <td>[42, 35]</td>\n",
       "    </tr>\n",
       "  </tbody>\n",
       "</table>\n",
       "</div>"
      ],
      "text/plain": [
       "     Year  Winner     Score\n",
       "111  2005  Wabash  [17, 14]\n",
       "112  2006  Wabash  [23, 20]\n",
       "115  2009  Wabash  [32, 19]\n",
       "116  2010  Wabash   [47, 0]\n",
       "117  2011  Wabash   [45, 7]\n",
       "118  2012  Wabash   [23, 0]\n",
       "119  2013  Wabash  [38, 21]\n",
       "120  2014  Wabash   [27, 3]\n",
       "121  2015  Wabash  [45, 17]\n",
       "123  2017  Wabash  [22, 21]\n",
       "124  2018  Wabash  [24, 17]\n",
       "127  2021  Wabash  [42, 35]"
      ]
     },
     "execution_count": 53,
     "metadata": {},
     "output_type": "execute_result"
    }
   ],
   "source": [
    "# Walk through the following code ...\n",
    "\n",
    "s1=monon_df['Winner']=='Wabash' \n",
    "s2=monon_df['Year']>=2004 \n",
    "monon_df[s1 & s2]"
   ]
  },
  {
   "cell_type": "code",
   "execution_count": 54,
   "id": "4cfae332-4bcb-45ca-922a-2aae610a4c2c",
   "metadata": {},
   "outputs": [
    {
     "data": {
      "text/html": [
       "<div>\n",
       "<style scoped>\n",
       "    .dataframe tbody tr th:only-of-type {\n",
       "        vertical-align: middle;\n",
       "    }\n",
       "\n",
       "    .dataframe tbody tr th {\n",
       "        vertical-align: top;\n",
       "    }\n",
       "\n",
       "    .dataframe thead th {\n",
       "        text-align: right;\n",
       "    }\n",
       "</style>\n",
       "<table border=\"1\" class=\"dataframe\">\n",
       "  <thead>\n",
       "    <tr style=\"text-align: right;\">\n",
       "      <th></th>\n",
       "      <th>Year</th>\n",
       "      <th>Winner</th>\n",
       "      <th>Score</th>\n",
       "    </tr>\n",
       "  </thead>\n",
       "  <tbody>\n",
       "    <tr>\n",
       "      <th>7</th>\n",
       "      <td>1900</td>\n",
       "      <td>Wabash</td>\n",
       "      <td>[6, 0]</td>\n",
       "    </tr>\n",
       "    <tr>\n",
       "      <th>8</th>\n",
       "      <td>1900</td>\n",
       "      <td>DePauw</td>\n",
       "      <td>[26, 11]</td>\n",
       "    </tr>\n",
       "    <tr>\n",
       "      <th>31</th>\n",
       "      <td>1925</td>\n",
       "      <td>Wabash</td>\n",
       "      <td>[22, 0]</td>\n",
       "    </tr>\n",
       "    <tr>\n",
       "      <th>56</th>\n",
       "      <td>1950</td>\n",
       "      <td>Wabash</td>\n",
       "      <td>[34, 20]</td>\n",
       "    </tr>\n",
       "    <tr>\n",
       "      <th>81</th>\n",
       "      <td>1975</td>\n",
       "      <td>DePauw</td>\n",
       "      <td>[14, 8]</td>\n",
       "    </tr>\n",
       "    <tr>\n",
       "      <th>106</th>\n",
       "      <td>2000</td>\n",
       "      <td>DePauw</td>\n",
       "      <td>[27, 17]</td>\n",
       "    </tr>\n",
       "  </tbody>\n",
       "</table>\n",
       "</div>"
      ],
      "text/plain": [
       "     Year  Winner     Score\n",
       "7    1900  Wabash    [6, 0]\n",
       "8    1900  DePauw  [26, 11]\n",
       "31   1925  Wabash   [22, 0]\n",
       "56   1950  Wabash  [34, 20]\n",
       "81   1975  DePauw   [14, 8]\n",
       "106  2000  DePauw  [27, 17]"
      ]
     },
     "execution_count": 54,
     "metadata": {},
     "output_type": "execute_result"
    }
   ],
   "source": [
    "# another quick filter with a mask\n",
    "\n",
    "monon_df[monon_df['Year']%25==0]"
   ]
  },
  {
   "cell_type": "code",
   "execution_count": null,
   "id": "80a8a7b9-72a6-46e6-acf7-1927641ed65a",
   "metadata": {},
   "outputs": [
    {
     "name": "stdout",
     "output_type": "stream",
     "text": [
      "0      29\n",
      "1       1\n",
      "2      38\n",
      "3      14\n",
      "4      12\n",
      "       ..\n",
      "126     0\n",
      "127     7\n",
      "128    35\n",
      "129     3\n",
      "130    21\n",
      "Length: 131, dtype: int64\n"
     ]
    }
   ],
   "source": [
    "# Walk through the following code ...  \n",
    "\n",
    "def diff(x):\n",
    "    if x[0]==None and x[1]==None:\n",
    "        return 0\n",
    "    else: return x[0]-x[1]\n",
    "\n",
    "differences = pd.Series(map(diff,monon_df['Score']))\n",
    "print(differences)\n",
    "monon_df['Diff'] = differences\n",
    "\n",
    "monon_df.sort_values(by='Diff')"
   ]
  },
  {
   "cell_type": "markdown",
   "id": "bfc25d3d-fbe1-48a0-a956-13e34d621f27",
   "metadata": {},
   "source": [
    "## Class Exercises (part 2):\n",
    "\n",
    "(2) Use the DataFrame called **monon_df** for the following.\n",
    "\n",
    ">(a) Display all data for the 1970s\n",
    "\n",
    ">(b) Count the number of times that Wabash won the Monon Bell from 1900 to 1950.\n",
    "\n",
    ">(c) Write code to count the number of games that were won by a single point.  \n",
    "\n",
    ">(d) Add two new columns to **monon_df** for the Wabash score and the DePauw score.  \n",
    "\n",
    ">(e) Sort and display the DataFrame to show the top 10 games with the highest margin of victory.  \n"
   ]
  },
  {
   "cell_type": "code",
   "execution_count": null,
   "id": "2c91a5f3-c24b-49e3-81dc-98117476c2f7",
   "metadata": {},
   "outputs": [],
   "source": [
    "#Question 1\n",
    "date_over = monon_df['Year'] >= 1970\n",
    "date_under = monon_df['Year'] < 1980\n",
    "#date_1970 \n",
    "monon_df[date_over & date_under]\n",
    "\n",
    "#Question 2\n",
    "win = monon_df[\"Winner\"] == \"Wabash\"\n",
    "s1 = monon_df['Year'] >= 1900\n",
    "s2 = monon_df['Year'] < 1950\n",
    "times_won = monon_df[win & s1 & s2]\n",
    "print(times_won)\n",
    "print(len(times_won))\n",
    "\n",
    "#Question 3\n",
    "single_pt = monon_df[\"Score\"]\n",
    "single_pt"
   ]
  },
  {
   "cell_type": "code",
   "execution_count": null,
   "id": "cc41d222",
   "metadata": {},
   "outputs": [],
   "source": [
    "def diff(x):\n",
    "    if x[0]==None and x[1]==None:\n",
    "        return 0\n",
    "    else: return x[0]-x[1]\n",
    "\n",
    "differences = pd.Series(map(diff,monon_df['Score']))\n",
    "print(differences)\n",
    "\n",
    "one_score = differences[\"Index\"]==1\n",
    "one_score\n",
    "\n",
    "\n"
   ]
  }
 ],
 "metadata": {
  "kernelspec": {
   "display_name": "Python 3",
   "language": "python",
   "name": "python3"
  },
  "language_info": {
   "codemirror_mode": {
    "name": "ipython",
    "version": 3
   },
   "file_extension": ".py",
   "mimetype": "text/x-python",
   "name": "python",
   "nbconvert_exporter": "python",
   "pygments_lexer": "ipython3",
   "version": "3.13.2"
  }
 },
 "nbformat": 4,
 "nbformat_minor": 5
}
