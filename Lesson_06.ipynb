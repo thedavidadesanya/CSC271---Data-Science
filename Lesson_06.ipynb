{
 "cells": [
  {
   "cell_type": "markdown",
   "id": "9bb8923f-d725-412b-a57c-a1e3f2c5dd67",
   "metadata": {},
   "source": [
    "## CSC 271 - Intro to Data Science\n",
    "## Tue, Feb 11\n",
    "## Lesson 06\n",
    "## Dictionaries"
   ]
  },
  {
   "cell_type": "markdown",
   "id": "17171713-2341-4e8d-a3f0-b56fe1ea371f",
   "metadata": {},
   "source": [
    " Python has a built in data structure called a dictionary,\n",
    " it provides list-like storage that generalizes the idea of indexing\n",
    " with a set of **key:value** pairs."
   ]
  },
  {
   "cell_type": "markdown",
   "id": "e0c9d2a4-f150-4f69-bd38-07734b788500",
   "metadata": {},
   "source": [
    "### Task 1: Basic dictionary operations "
   ]
  },
  {
   "cell_type": "code",
   "execution_count": 2,
   "id": "8e0d4d04-cb70-40f1-b1b2-ee9ba6c4a7a3",
   "metadata": {},
   "outputs": [
    {
     "name": "stdout",
     "output_type": "stream",
     "text": [
      "Chris\n",
      "Susan\n",
      "X Æ A-12\n",
      "None\n"
     ]
    }
   ],
   "source": [
    "# Creating a dictionary and accessing items\n",
    "\n",
    "name_data = {358:'Joe', 77:'Susan', 81.43:'Chris', 123:'X Æ A-12'}\n",
    "\n",
    "print(name_data[81.43])\n",
    "print(name_data[77])\n",
    "print(name_data[123])\n",
    "print(name_data.get(99))  # <-- why is this better than ... stops us from getting a KeyError\n",
    "#print(name_data[99])     #    ... this? \n"
   ]
  },
  {
   "cell_type": "code",
   "execution_count": null,
   "id": "a477e3ce-ee40-4fea-b8ef-185bdefefb27",
   "metadata": {},
   "outputs": [],
   "source": [
    "print(name_data.keys())     # <-- can also get these as an individual list\n",
    "print(name_data.values())   # <-- can also get these as an individual list"
   ]
  },
  {
   "cell_type": "code",
   "execution_count": null,
   "id": "1defc055-3620-453a-8cf1-150163992a9b",
   "metadata": {},
   "outputs": [],
   "source": [
    "# Another example -- key:value pairs for a class schedule\n",
    "\n",
    "course_data = {'MWF 8:00am':'CHE 111','TTh 1:10pm':'CSC 271','MWF 2:10pm':'PHI 245','MWF 11:00am':'ECO 101'}\n",
    "\n",
    "course_data"
   ]
  },
  {
   "cell_type": "code",
   "execution_count": null,
   "id": "e7919fb0-694a-4ca0-9637-d8ffffc822fa",
   "metadata": {},
   "outputs": [],
   "source": [
    "# adding new items is easy ... \n",
    "\n",
    "course_data['TTh 9:45am']='HIS 220'\n",
    "\n",
    "course_data"
   ]
  },
  {
   "cell_type": "code",
   "execution_count": null,
   "id": "520e780c-f9d9-44a0-b58e-7df8690be87e",
   "metadata": {},
   "outputs": [],
   "source": [
    "# removing is also easy\n",
    "\n",
    "course_data.pop('MWF 2:10pm')\n",
    "\n",
    "course_data"
   ]
  },
  {
   "cell_type": "code",
   "execution_count": null,
   "id": "af85edb0-ca3a-466a-a9dc-0025d194d538",
   "metadata": {},
   "outputs": [],
   "source": [
    "## it's also easy to combine dictionaries ...\n",
    "\n",
    "course_data.update(name_data)\n",
    "\n",
    "course_data"
   ]
  },
  {
   "cell_type": "code",
   "execution_count": 9,
   "id": "d7e02961-7610-412a-ab2e-f61af166d02d",
   "metadata": {},
   "outputs": [
    {
     "data": {
      "text/plain": [
       "{}"
      ]
     },
     "execution_count": 9,
     "metadata": {},
     "output_type": "execute_result"
    }
   ],
   "source": [
    "# ...or to clear it all out\n",
    "\n",
    "course_data.clear()\n",
    "\n",
    "course_data"
   ]
  },
  {
   "cell_type": "code",
   "execution_count": null,
   "id": "c2ea942f-dbd0-4572-b6d7-b2b0925de351",
   "metadata": {},
   "outputs": [],
   "source": [
    "# Note: key values must be unique, values can be repeated\n",
    "\n",
    "shopping_data = {'A':'apple','B':'bread','C':'cheese','D':'donuts'}\n",
    "print(shopping_data)\n",
    "\n",
    "shopping_data['B'] = 'banana'\n",
    "print(shopping_data)\n",
    "\n",
    "shopping_data['E'] = 'donuts'\n",
    "print(shopping_data)"
   ]
  },
  {
   "cell_type": "markdown",
   "id": "53101d65-e2a7-49d9-affb-20a62d95e74e",
   "metadata": {},
   "source": [
    "### Task 2: A dictionary for ascii keys "
   ]
  },
  {
   "cell_type": "code",
   "execution_count": 11,
   "id": "5d9be8ac-349f-421d-9076-9c3b9b0a9972",
   "metadata": {},
   "outputs": [
    {
     "data": {
      "text/plain": [
       "{65: 'A',\n",
       " 66: 'B',\n",
       " 67: 'C',\n",
       " 68: 'D',\n",
       " 69: 'E',\n",
       " 70: 'F',\n",
       " 71: 'G',\n",
       " 72: 'H',\n",
       " 73: 'I',\n",
       " 74: 'J',\n",
       " 75: 'K',\n",
       " 76: 'L',\n",
       " 77: 'M',\n",
       " 78: 'N',\n",
       " 79: 'O',\n",
       " 80: 'P',\n",
       " 81: 'Q',\n",
       " 82: 'R',\n",
       " 83: 'S',\n",
       " 84: 'T',\n",
       " 85: 'U',\n",
       " 86: 'V',\n",
       " 87: 'W',\n",
       " 88: 'X',\n",
       " 89: 'Y',\n",
       " 90: 'Z'}"
      ]
     },
     "execution_count": 11,
     "metadata": {},
     "output_type": "execute_result"
    }
   ],
   "source": [
    "# let's create a bigger dictionary ... just because we can \n",
    "\n",
    "ascii_data = {}\n",
    "\n",
    "for key in range(65,91):\n",
    "    value = chr(key)\n",
    "    ascii_data[key]=value\n",
    "\n",
    "ascii_data"
   ]
  },
  {
   "cell_type": "code",
   "execution_count": 12,
   "id": "0aeff577-e399-417b-bc17-4a0d32ae1e18",
   "metadata": {},
   "outputs": [
    {
     "data": {
      "text/plain": [
       "'M'"
      ]
     },
     "execution_count": 12,
     "metadata": {},
     "output_type": "execute_result"
    }
   ],
   "source": [
    "ascii_data[77]"
   ]
  },
  {
   "cell_type": "code",
   "execution_count": 13,
   "id": "27fe054b-53fe-4efb-9490-fb3b40521341",
   "metadata": {},
   "outputs": [
    {
     "name": "stdout",
     "output_type": "stream",
     "text": [
      "A\n",
      "AB\n",
      "ABC\n",
      "ABCD\n",
      "ABCDE\n",
      "ABCDEF\n",
      "ABCDEFG\n",
      "ABCDEFGH\n",
      "ABCDEFGHI\n",
      "ABCDEFGHIJ\n",
      "ABCDEFGHIJK\n",
      "ABCDEFGHIJKL\n",
      "ABCDEFGHIJKLM\n",
      "ABCDEFGHIJKLMN\n",
      "ABCDEFGHIJKLMNO\n",
      "ABCDEFGHIJKLMNOP\n",
      "ABCDEFGHIJKLMNOPQ\n",
      "ABCDEFGHIJKLMNOPQR\n",
      "ABCDEFGHIJKLMNOPQRS\n",
      "ABCDEFGHIJKLMNOPQRST\n",
      "ABCDEFGHIJKLMNOPQRSTU\n",
      "ABCDEFGHIJKLMNOPQRSTUV\n",
      "ABCDEFGHIJKLMNOPQRSTUVW\n",
      "ABCDEFGHIJKLMNOPQRSTUVWX\n",
      "ABCDEFGHIJKLMNOPQRSTUVWXY\n",
      "ABCDEFGHIJKLMNOPQRSTUVWXYZ\n"
     ]
    }
   ],
   "source": [
    "# you can also loop through a dictionary in order\n",
    "\n",
    "message=''\n",
    "\n",
    "for z in ascii_data:\n",
    "    message+=ascii_data[z]\n",
    "    print(message)"
   ]
  },
  {
   "cell_type": "code",
   "execution_count": 14,
   "id": "02a27057-50c5-4639-92f3-be516dd88a57",
   "metadata": {},
   "outputs": [
    {
     "name": "stdout",
     "output_type": "stream",
     "text": [
      "LLNA\n",
      "CBYK\n",
      "ZIWT\n",
      "OICA\n",
      "VDBZ\n",
      "LDLW\n",
      "EGXI\n",
      "BEIB\n",
      "VRDN\n",
      "BSZP\n",
      "VENS\n",
      "DVVN\n",
      "ZASS\n",
      "DMWS\n",
      "RVXL\n",
      "GGXT\n",
      "XIWQ\n",
      "YOUG\n",
      "UCBA\n",
      "GLSF\n"
     ]
    }
   ],
   "source": [
    "# try to predict the output here before you run it...\n",
    "import random\n",
    "\n",
    "for x in range(20):\n",
    "    c_1 = ascii_data[random.randint(65,90)]\n",
    "    c_2 = ascii_data[random.randint(65,90)]\n",
    "    c_3 = ascii_data[random.randint(65,90)]\n",
    "    c_4 = ascii_data[random.randint(65,90)]\n",
    "    print(c_1+c_2+c_3+c_4)"
   ]
  },
  {
   "cell_type": "markdown",
   "id": "c29609e9-cba5-4000-8365-947e6d43bd0b",
   "metadata": {},
   "source": [
    "### Task 3: A list of dictionaries "
   ]
  },
  {
   "cell_type": "code",
   "execution_count": 7,
   "id": "a2069f42-4bfb-4254-bee6-cbb827a0f1d0",
   "metadata": {},
   "outputs": [
    {
     "name": "stdout",
     "output_type": "stream",
     "text": [
      " All car data: \n",
      " [{'ID': 2025001, 'MAKE': 'Ford', 'MODEL': 'F150', 'YEAR': '2023', 'MILES': 43554, 'PRICE': 28000}, {'ID': 2025002, 'MAKE': 'Mazda', 'MODEL': 'Miata', 'YEAR': '2010', 'MILES': 76000, 'PRICE': 8500}, {'ID': 2025003, 'MAKE': 'Acura', 'MODEL': 'Integra', 'YEAR': '2001', 'MILES': 129300, 'PRICE': 5999}, {'ID': 2025004, 'MAKE': 'Toyota', 'MODEL': 'Corolla', 'YEAR': '2016', 'MILES': 49000, 'PRICE': 14250}, {'ID': 2025005, 'MAKE': 'Subaru', 'MODEL': 'WRX', 'YEAR': '1998', 'MILES': 120000, 'PRICE': 8900}, {'ID': 2025006, 'MAKE': 'Toyota', 'MODEL': 'Sienna', 'YEAR': '2015', 'MILES': 35100, 'PRICE': 19000}, {'ID': 2025007, 'MAKE': 'Subaru', 'MODEL': 'Impreza', 'YEAR': '2011', 'MILES': 199000, 'PRICE': 5500}, {'ID': 2025008, 'MAKE': 'Mercury', 'MODEL': 'Cougar', 'YEAR': '1976', 'MILES': 150000, 'PRICE': 400}, {'ID': 2025009, 'MAKE': 'Toyota', 'MODEL': 'Camry', 'YEAR': '2005', 'MILES': 165000, 'PRICE': 6700}, {'ID': 2025010, 'MAKE': 'Volkswagon', 'MODEL': 'Beetle', 'YEAR': '1970', 'MILES': 128000, 'PRICE': 9900}, {'ID': 2025011, 'MAKE': 'Tesla', 'MODEL': 'Model 3', 'YEAR': '2020', 'MILES': 11000, 'PRICE': 27000}, {'ID': 2025012, 'MAKE': 'Tesla', 'MODEL': 'Model S', 'YEAR': '2024', 'MILES': 36000, 'PRICE': 65250}, {'ID': 2025013, 'MAKE': 'Honda', 'MODEL': 'Civic', 'YEAR': '2005', 'MILES': 211000, 'PRICE': 3000}, {'ID': 2025014, 'MAKE': 'Subaru', 'MODEL': 'Crosstrek', 'YEAR': '2019', 'MILES': 43000, 'PRICE': 22700}, {'ID': 2025015, 'MAKE': 'Lexus', 'MODEL': 'RX350', 'YEAR': '2024', 'MILES': 24500, 'PRICE': 45000}, {'ID': 2025016, 'MAKE': 'Nissan', 'MODEL': 'Altima', 'YEAR': '2009', 'MILES': 130500, 'PRICE': 9200}]\n",
      "\n",
      " The first record: \n",
      " {'ID': 2025001, 'MAKE': 'Ford', 'MODEL': 'F150', 'YEAR': '2023', 'MILES': 43554, 'PRICE': 28000}\n",
      "\n",
      " The model of the last record: \n",
      " Altima\n"
     ]
    }
   ],
   "source": [
    "# One application for dictionaries is in database records\n",
    "# We can create a small database as a list of dictionaries \n",
    "\n",
    "car_data = []   # <-- car_data will be a list of dictionaries\n",
    "\n",
    "id_number = 2025001\n",
    "make = 'Ford'\n",
    "model = 'F150'\n",
    "year = '2023'\n",
    "mileage = 43554\n",
    "price = 28000\n",
    "db_entry = {'ID':id_number, 'MAKE':make, 'MODEL':model, 'YEAR':year, 'MILES':mileage, 'PRICE':price}\n",
    "car_data.append(db_entry)\n",
    "\n",
    "id_number = 2025002\n",
    "make = 'Mazda'\n",
    "model = 'Miata'\n",
    "year = '2010'\n",
    "mileage = 76000\n",
    "price = 8500\n",
    "db_entry = {'ID':id_number, 'MAKE':make, 'MODEL':model, 'YEAR':year, 'MILES':mileage, 'PRICE':price}\n",
    "car_data.append(db_entry)\n",
    "\n",
    "id_number = 2025003\n",
    "make = 'Acura'\n",
    "model = 'Integra'\n",
    "year = '2001'\n",
    "mileage = 129300\n",
    "price = 5999\n",
    "db_entry = {'ID':id_number, 'MAKE':make, 'MODEL':model, 'YEAR':year, 'MILES':mileage, 'PRICE':price}\n",
    "car_data.append(db_entry)\n",
    "\n",
    "id_number = 2025004\n",
    "make = 'Toyota'\n",
    "model = 'Corolla'\n",
    "year = '2016'\n",
    "mileage = 49000\n",
    "price = 14250\n",
    "db_entry = {'ID':id_number, 'MAKE':make, 'MODEL':model, 'YEAR':year, 'MILES':mileage, 'PRICE':price}\n",
    "car_data.append(db_entry)\n",
    "\n",
    "id_number = 2025005\n",
    "make = 'Subaru'\n",
    "model = 'WRX'\n",
    "year = '1998'\n",
    "mileage = 120000\n",
    "price = 8900\n",
    "db_entry = {'ID':id_number, 'MAKE':make, 'MODEL':model, 'YEAR':year, 'MILES':mileage, 'PRICE':price}\n",
    "car_data.append(db_entry)\n",
    "\n",
    "id_number = 2025006\n",
    "make = 'Toyota'\n",
    "model = 'Sienna'\n",
    "year = '2015'\n",
    "mileage = 35100\n",
    "price = 19000\n",
    "db_entry = {'ID':id_number, 'MAKE':make, 'MODEL':model, 'YEAR':year, 'MILES':mileage, 'PRICE':price}\n",
    "car_data.append(db_entry)\n",
    "\n",
    "id_number = 2025007\n",
    "make = 'Subaru'\n",
    "model = 'Impreza'\n",
    "year = '2011'\n",
    "mileage = 199000\n",
    "price = 5500\n",
    "db_entry = {'ID':id_number, 'MAKE':make, 'MODEL':model, 'YEAR':year, 'MILES':mileage, 'PRICE':price}\n",
    "car_data.append(db_entry)\n",
    "\n",
    "id_number = 2025008\n",
    "make = 'Mercury'\n",
    "model = 'Cougar'\n",
    "year = '1976'\n",
    "mileage = 150000\n",
    "price = 400\n",
    "db_entry = {'ID':id_number, 'MAKE':make, 'MODEL':model, 'YEAR':year, 'MILES':mileage, 'PRICE':price}\n",
    "car_data.append(db_entry)\n",
    "\n",
    "id_number = 2025009\n",
    "make = 'Toyota'\n",
    "model = 'Camry'\n",
    "year = '2005'\n",
    "mileage = 165000\n",
    "price = 6700\n",
    "db_entry = {'ID':id_number, 'MAKE':make, 'MODEL':model, 'YEAR':year, 'MILES':mileage, 'PRICE':price}\n",
    "car_data.append(db_entry)\n",
    "\n",
    "id_number = 2025010\n",
    "make = 'Volkswagon'\n",
    "model = 'Beetle'\n",
    "year = '1970'\n",
    "mileage = 128000\n",
    "price = 9900\n",
    "db_entry = {'ID':id_number, 'MAKE':make, 'MODEL':model, 'YEAR':year, 'MILES':mileage, 'PRICE':price}\n",
    "car_data.append(db_entry)\n",
    "\n",
    "id_number = 2025011\n",
    "make = 'Tesla'\n",
    "model = 'Model 3'\n",
    "year = '2020'\n",
    "mileage = 11000\n",
    "price = 27000\n",
    "db_entry = {'ID':id_number, 'MAKE':make, 'MODEL':model, 'YEAR':year, 'MILES':mileage, 'PRICE':price}\n",
    "car_data.append(db_entry)\n",
    "\n",
    "id_number = 2025012\n",
    "make = 'Tesla'\n",
    "model = 'Model S'\n",
    "year = '2024'\n",
    "mileage = 36000\n",
    "price = 65250\n",
    "db_entry = {'ID':id_number, 'MAKE':make, 'MODEL':model, 'YEAR':year, 'MILES':mileage, 'PRICE':price}\n",
    "car_data.append(db_entry)\n",
    "\n",
    "id_number = 2025013\n",
    "make = 'Honda'\n",
    "model = 'Civic'\n",
    "year = '2005'\n",
    "mileage = 211000\n",
    "price = 3000\n",
    "db_entry = {'ID':id_number, 'MAKE':make, 'MODEL':model, 'YEAR':year, 'MILES':mileage, 'PRICE':price}\n",
    "car_data.append(db_entry)\n",
    "\n",
    "id_number = 2025014\n",
    "make = 'Subaru'\n",
    "model = 'Crosstrek'\n",
    "year = '2019'\n",
    "mileage = 43000\n",
    "price = 22700\n",
    "db_entry = {'ID':id_number, 'MAKE':make, 'MODEL':model, 'YEAR':year, 'MILES':mileage, 'PRICE':price}\n",
    "car_data.append(db_entry)\n",
    "\n",
    "id_number = 2025015\n",
    "make = 'Lexus'\n",
    "model = 'RX350'\n",
    "year = '2024'\n",
    "mileage = 24500\n",
    "price = 45000\n",
    "db_entry = {'ID':id_number, 'MAKE':make, 'MODEL':model, 'YEAR':year, 'MILES':mileage, 'PRICE':price}\n",
    "car_data.append(db_entry)\n",
    "\n",
    "id_number = 2025016\n",
    "make = 'Nissan'\n",
    "model = 'Altima'\n",
    "year = '2009'\n",
    "mileage = 130500\n",
    "price = 9200\n",
    "db_entry = {'ID':id_number, 'MAKE':make, 'MODEL':model, 'YEAR':year, 'MILES':mileage, 'PRICE':price}\n",
    "car_data.append(db_entry)\n",
    "\n",
    "\n",
    "print(' All car data: \\n',car_data)\n",
    "\n",
    "print('\\n The first record: \\n',car_data[0])\n",
    "\n",
    "print('\\n The model of the last record: \\n',car_data[-1]['MODEL'])"
   ]
  },
  {
   "cell_type": "code",
   "execution_count": 8,
   "id": "1a158afa-6969-49dd-83cd-43d02bb3d384",
   "metadata": {},
   "outputs": [
    {
     "name": "stdout",
     "output_type": "stream",
     "text": [
      "[('Ford', 43554), ('Toyota', 49000), ('Toyota', 35100), ('Tesla', 11000), ('Tesla', 36000), ('Subaru', 43000), ('Lexus', 24500)]\n"
     ]
    }
   ],
   "source": [
    "# create a report of cars with low miles\n",
    "\n",
    "low_miles = list((c['MAKE'],c['MILES']) for c in car_data if c['MILES']<50000)\n",
    "\n",
    "print(low_miles)"
   ]
  },
  {
   "cell_type": "code",
   "execution_count": 17,
   "id": "e33343b3-d31a-4c63-917c-bcb2ce008e3d",
   "metadata": {},
   "outputs": [
    {
     "name": "stdout",
     "output_type": "stream",
     "text": [
      "['2016 Corolla', '2015 Sienna', '2005 Camry']\n"
     ]
    }
   ],
   "source": [
    "# create a report of models of toyota cars\n",
    "\n",
    "all_toyotas = list(c['YEAR']+' '+c['MODEL'] for c in car_data if c['MAKE']=='Toyota')\n",
    "\n",
    "print(all_toyotas)"
   ]
  },
  {
   "cell_type": "code",
   "execution_count": 18,
   "id": "fa653ee5-211b-4d3a-aa4d-4f16452c5d70",
   "metadata": {},
   "outputs": [
    {
     "name": "stdout",
     "output_type": "stream",
     "text": [
      "{'ID': 2025003, 'MAKE': 'Acura', 'MODEL': 'Integra', 'YEAR': '2001', 'MILES': 129300, 'PRICE': 5999, 'Weeks in Inventory': 0}\n",
      "{'ID': 2025009, 'MAKE': 'Toyota', 'MODEL': 'Camry', 'YEAR': '2005', 'MILES': 165000, 'PRICE': 6700, 'Weeks in Inventory': 0}\n"
     ]
    }
   ],
   "source": [
    "# Suppose we need to add a new field to each entry that gives the number of weeks in inventory\n",
    "\n",
    "for c in car_data:\n",
    "    c['Weeks in Inventory']=0\n",
    "    \n",
    "print(car_data[2])\n",
    "print(car_data[8])"
   ]
  },
  {
   "cell_type": "code",
   "execution_count": null,
   "id": "66930e93-89b7-4bcc-8317-74010f334626",
   "metadata": {},
   "outputs": [],
   "source": [
    "# Now suppose we want to update the number of weeks in inventory each week\n",
    "# by adding +1 to the appropriate value.  Let's do this with a function\n",
    "\n",
    "def update_weeks(lst):\n",
    "    for c in lst:\n",
    "        c['Weeks in Inventory']+=1\n",
    "    \n",
    "print(car_data[7])\n",
    "\n",
    "update_weeks(car_data)\n",
    "\n",
    "print(car_data[7])\n",
    "    "
   ]
  },
  {
   "cell_type": "code",
   "execution_count": null,
   "id": "e02a17bd-3ab7-4e5f-958f-b5876c701e82",
   "metadata": {},
   "outputs": [],
   "source": [
    "# How about a bit more exploratory data analysis...\n",
    "import numpy as np\n",
    "import matplotlib.pyplot as plt\n",
    "\n",
    "mileage_list=[c['MILES'] for c in car_data]\n",
    "\n",
    "plt.hist(mileage_list,bins=30)\n",
    "plt.xlabel('mileage')\n",
    "plt.title('distribution of mileage in inventory')\n",
    "plt.show()"
   ]
  },
  {
   "cell_type": "code",
   "execution_count": null,
   "id": "d0e3cdfe-d323-49f0-bd41-7b37adcbafdb",
   "metadata": {},
   "outputs": [
    {
     "data": {
      "image/png": "[encoded data removed]",
      "text/plain": [
       "<Figure size 640x480 with 1 Axes>"
      ]
     },
     "metadata": {},
     "output_type": "display_data"
    }
   ],
   "source": [
    "# look for trends in the data...\n",
    "\n",
    "mileage_and_price_data=np.array([[c['MILES'],c['PRICE']] for c in car_data])\n",
    "\n",
    "x=mileage_and_price_data[:,0]\n",
    "y=mileage_and_price_data[:,1]\n",
    "\n",
    "plt.scatter(x,y)\n",
    "plt.title(\"PRICE vs. MILEAGE\")\n",
    "plt.xlabel('mileage')\n",
    "plt.ylabel('price')\n",
    "plt.show()\n",
    "\n",
    "# Can we easily remove the outlier?"
   ]
  },
  {
   "cell_type": "markdown",
   "id": "cb6cb2b1-82d7-49de-9639-ff7729e63e00",
   "metadata": {},
   "source": [
    "### Class Exercises:\n",
    "\n",
    "(1) Create a plot of PRICE vs. YEAR for all cars in the inventory.  Is there a trend?  \n",
    "\n",
    "(2) Use list comprehensions to create two new lists **older_cars** (earlier than 2010) and **newer_cars** (2010 or newer).\n",
    "\n",
    "(3) Create a report that lists the YEAR, MAKE, and MODEL of all cars whose price is less than \\$10,000\n",
    "\n",
    "(4) Write a function called **filter_by_price(min,max)** that prints a report of all cars with a price between **min** and **max**.  \n",
    "\n",
    "(5) Write a function called **total_value** that returns the total value of a list passed into it (the sum of all prices).  \n",
    "\n",
    "(6) Write a function called **discount** that reduces the price of all cars in a list passed into it by 10%.  \n"
   ]
  },
  {
   "cell_type": "code",
   "execution_count": null,
   "id": "d673fc68-3e99-468f-84db-0927ef91f944",
   "metadata": {},
   "outputs": [],
   "source": [
    "#Question 1\n",
    "year_and_price_data=np.array([[c['YEAR'],c['PRICE']] for c in car_data])\n",
    "\n",
    "x=year_and_price_data[:,0]\n",
    "y=year_and_price_data[:,1]\n",
    "\n",
    "x_sorted = np.argsort(x)\n",
    "y_sorted = np.argsort(y)\n",
    "\n",
    "plt.scatter(x_sorted,y_sorted)\n",
    "plt.title(\"PRICE vs. YEAR\")\n",
    "plt.xlabel('year')\n",
    "plt.ylabel('price')\n",
    "plt.show()\n",
    "\n",
    "#Question 2\n",
    "older_cars = list([x[\"YEAR\"]+' '+ x[\"MODEL\"] for x in car_data if int(x[\"YEAR\"]) <= 2010])\n",
    "newer_cars = list([x[\"YEAR\"]+' '+x[\"MODEL\"] for x in car_data if int(x[\"YEAR\"]) > 2010])\n",
    "#print(older_cars)\n",
    "#print(newer_cars)\n",
    "\n",
    "#Question 3\n",
    "report = [x[\"YEAR\"]+' '+x[\"MODEL\"]+' '+x[\"MAKE\"] for x in car_data if int(x[\"PRICE\"]) < 10000]\n",
    "#print(report)\n",
    "\n",
    "#Question 4\n",
    "def filter_by_price(min, max):\n",
    "    cars = [x[\"YEAR\"]+' '+x[\"MODEL\"]+' '+x[\"MAKE\"] for x in car_data if int(x[\"PRICE\"]) > min and int(x[\"PRICE\"]) < max]\n",
    "    return cars\n",
    "#filter_by_price(1000, 20000)\n",
    "\n",
    "#Question 5\n",
    "def total_value(lst):\n",
    "    sum = 0\n",
    "    my_lst = [x[\"PRICE\"] for x in lst]\n",
    "    for x in my_lst:\n",
    "        sum += int(x)\n",
    "    print(f\"The total price is {sum}\")\n",
    "\n",
    "\n",
    "#total_value(car_data)\n",
    "\n",
    "\n",
    "#Question 6\n",
    "def discount(data):\n",
    "    discount = []\n",
    "    my_lst = [x[\"PRICE\"] for x in data]\n",
    "    for x in my_lst:\n",
    "        ten_percent_off = x - (x * 0.10)\n",
    "        discount.append(ten_percent_off)\n",
    "    print(discount)\n",
    "\n",
    "    cars = [x[\"MAKE\"]+\" \"+x[\"MODEL\"] +\" \"+str(y)for x,y in zip(data, discount)]\n",
    "    print(cars)\n",
    "\n",
    "discount(car_data)\n",
    "#print(car_data)\n",
    "\n"
   ]
  },
  {
   "cell_type": "code",
   "execution_count": 9,
   "id": "41bdd790",
   "metadata": {},
   "outputs": [
    {
     "name": "stdout",
     "output_type": "stream",
     "text": [
      "['2010 Miata', '2001 Integra', '1998 WRX', '1976 Cougar', '2005 Camry', '1970 Beetle', '2005 Civic', '2009 Altima']\n",
      "['2023 F150', '2016 Corolla', '2015 Sienna', '2011 Impreza', '2020 Model 3', '2024 Model S', '2019 Crosstrek', '2024 RX350']\n"
     ]
    }
   ],
   "source": [
    "#Question 2\n",
    "older_cars = list([x[\"YEAR\"]+' '+ x[\"MODEL\"] for x in car_data if int(x[\"YEAR\"]) <= 2010])\n",
    "newer_cars = list([x[\"YEAR\"]+' '+x[\"MODEL\"] for x in car_data if int(x[\"YEAR\"]) > 2010])\n",
    "print(older_cars)\n",
    "print(newer_cars)"
   ]
  },
  {
   "cell_type": "code",
   "execution_count": 10,
   "id": "7e782799",
   "metadata": {},
   "outputs": [
    {
     "name": "stdout",
     "output_type": "stream",
     "text": [
      "49599\n"
     ]
    }
   ],
   "source": [
    "value_cars = list([x[\"PRICE\"] for x in car_data if int(x[\"MILES\"] > 100000)])\n",
    "print(sum(value_cars))"
   ]
  }
 ],
 "metadata": {
  "kernelspec": {
   "display_name": "Python 3",
   "language": "python",
   "name": "python3"
  },
  "language_info": {
   "codemirror_mode": {
    "name": "ipython",
    "version": 3
   },
   "file_extension": ".py",
   "mimetype": "text/x-python",
   "name": "python",
   "nbconvert_exporter": "python",
   "pygments_lexer": "ipython3",
   "version": "3.13.2"
  }
 },
 "nbformat": 4,
 "nbformat_minor": 5
}
