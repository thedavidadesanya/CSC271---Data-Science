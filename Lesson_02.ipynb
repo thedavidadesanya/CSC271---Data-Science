{
 "cells": [
  {
   "cell_type": "markdown",
   "id": "58eb260e-ceb7-4fb2-9736-94dd710e93f8",
   "metadata": {},
   "source": [
    "## CSC 271 - Intro to Data Science\n",
    "## Tue, Jan 28\n",
    "## Lesson 02\n",
    "## All about functions, map, filter, and reduce"
   ]
  },
  {
   "cell_type": "code",
   "execution_count": 3,
   "id": "a2f80dd9-0115-4bec-bfe4-d7e30505c3fa",
   "metadata": {},
   "outputs": [],
   "source": [
    "import numpy as np"
   ]
  },
  {
   "cell_type": "markdown",
   "id": "43e028e4-609f-417d-839c-515dffe04b0d",
   "metadata": {},
   "source": [
    " Today we're going to focus on writing functions in python, with a specific focus on functions applied to a dataset (lists or arrays, for today). Let's start with an easy refresher on the basic syntax ..."
   ]
  },
  {
   "cell_type": "markdown",
   "id": "7b94479c-18f4-4ba2-b8aa-fd6c1485cc9e",
   "metadata": {},
   "source": [
    "## Task 1: Basic Functions"
   ]
  },
  {
   "cell_type": "code",
   "execution_count": 4,
   "id": "e7676435-89d7-4833-a46e-47cc86798cba",
   "metadata": {},
   "outputs": [
    {
     "name": "stdout",
     "output_type": "stream",
     "text": [
      "1.7320508075688772\n",
      "4.0\n",
      "0\n",
      "3.0\n",
      "1.0\n"
     ]
    }
   ],
   "source": [
    "# A numerical example\n",
    "def my_func(x=1):\n",
    "    if x<0:\n",
    "        return 0\n",
    "    else:\n",
    "        return np.sqrt(x)\n",
    "\n",
    "# sample usage\n",
    "print(my_func(3))\n",
    "print(my_func(16))\n",
    "print(my_func(-2))\n",
    "print(my_func(my_func(81)))\n",
    "print(my_func())"
   ]
  },
  {
   "cell_type": "code",
   "execution_count": 5,
   "id": "e96dfaa1-27b5-4f50-94d6-5192c8a878c3",
   "metadata": {},
   "outputs": [
    {
     "name": "stdout",
     "output_type": "stream",
     "text": [
      "False\n",
      "True\n",
      "True\n",
      "False\n"
     ]
    }
   ],
   "source": [
    "# An example with multiple inputs \n",
    "def close_values(x,y):\n",
    "    return abs(x-y)<=0.1\n",
    "\n",
    "# sample usage\n",
    "print(close_values(2,5))\n",
    "print(close_values(9.99,10.03))\n",
    "print(close_values(np.pi,22/7))\n",
    "print(close_values(-1,1))"
   ]
  },
  {
   "cell_type": "code",
   "execution_count": 6,
   "id": "b43376a6-d679-45fa-8bb6-5bd4dcc8be97",
   "metadata": {},
   "outputs": [
    {
     "name": "stdout",
     "output_type": "stream",
     "text": [
      "d\n",
      "!\n",
      "5\n",
      " \n",
      "None\n"
     ]
    }
   ],
   "source": [
    "# An example with strings (or lists)\n",
    "def ends_with(s=''):\n",
    "    if len(s)==0: \n",
    "        return None\n",
    "    return s[-1]\n",
    "\n",
    "# sample usage\n",
    "print(ends_with('Hello World'))\n",
    "print(ends_with('Wabash Always Fights!'))\n",
    "print(ends_with([3, 4, 5]))\n",
    "print(ends_with(' '))\n",
    "print(ends_with())"
   ]
  },
  {
   "cell_type": "code",
   "execution_count": 7,
   "id": "16e455c4-5164-4e97-a46b-94869aea35a0",
   "metadata": {},
   "outputs": [
    {
     "name": "stdout",
     "output_type": "stream",
     "text": [
      "5.0\n",
      "5.0\n",
      "3.7416573867739413\n",
      "7.0\n",
      "5.90530402510535\n"
     ]
    }
   ],
   "source": [
    "# An example for lists of numerical values\n",
    "def norm(vec):\n",
    "    n=len(vec)\n",
    "    sum=0\n",
    "    for i in range(n):\n",
    "        sum+=vec[i]**2\n",
    "    return np.sqrt(sum)\n",
    "\n",
    "# sample usage\n",
    "print(norm([4, 3]))\n",
    "print(norm([-4, 3]))\n",
    "print(norm([1, 2, -3]))\n",
    "print(norm([0, 7, 0, 0, 0]))\n",
    "print(norm(np.random.rand(100)))"
   ]
  },
  {
   "cell_type": "code",
   "execution_count": 9,
   "id": "3b22052c-6883-41e9-8f8b-5a98b4e37ca0",
   "metadata": {},
   "outputs": [
    {
     "name": "stdout",
     "output_type": "stream",
     "text": [
      "Lin, Ting\n",
      "Ansorge, Joseph\n",
      "Nguyen, Hoang Anh\n"
     ]
    }
   ],
   "source": [
    "# Here's one more for lists\n",
    "\n",
    "def pick_one(lst):\n",
    "    index_val = np.random.randint(0,len(lst))\n",
    "    return lst[index_val]\n",
    "\n",
    "names = [\n",
    "'Adesanya, David','Ansorge, Joseph','Arruza, Alexander','Ayalneh, Hailemariam',\n",
    "'Decker, Samuel','Faughnan, Curtis','Frejenal, Lucas','Grannis, Isaac',\n",
    "'Hearns, Julius','Hendrick, Matthew','Kimmerle, Ethan','Lambert, Connor',\n",
    "'Larberg, Ray','Lin, Ting','Nguyen, Hoang Anh','Ramos, Oliver',\n",
    "'Schall, Brock','Shinebaatar, Ochirbileg','Stephens, Coby','Tonmoy, Abdul Basit',\n",
    "'Wallace, James','Young, Jonathon'    \n",
    "]\n",
    "\n",
    "# sample usage\n",
    "print(pick_one(names))\n",
    "print(pick_one(names))\n",
    "print(pick_one(names))"
   ]
  },
  {
   "cell_type": "markdown",
   "id": "6fa65a25-266c-4e8d-bfe2-7444651d4d09",
   "metadata": {},
   "source": [
    "## Task 2: Anonymous Functions -- lambda functions"
   ]
  },
  {
   "cell_type": "code",
   "execution_count": 10,
   "id": "18b6dc0b-1e00-4890-a9ad-da1311149d69",
   "metadata": {},
   "outputs": [
    {
     "name": "stdout",
     "output_type": "stream",
     "text": [
      "7  \t  7\n",
      "33.24  \t  33.24\n",
      "5.670774270471604  \t  5.670774270471604\n"
     ]
    }
   ],
   "source": [
    "# sometimes we don't need a carefully designed, general function for continued usage\n",
    "# instead, we may just want a quick and easy function for a single/limited use ... \n",
    "# anonymous lambda functions can come in handy (and often speed things up, too)\n",
    "\n",
    "# two ways to essentially do the same thing:\n",
    "\n",
    "def func_1(x):\n",
    "    return x**2-x+1\n",
    "\n",
    "func_2 = lambda x: x**2-x+1\n",
    "\n",
    "print(func_1(3),' \\t ',func_2(3))\n",
    "print(func_1(6.2),' \\t ',func_2(6.2))\n",
    "print(func_1(np.e),' \\t ',func_2(np.e))"
   ]
  },
  {
   "cell_type": "code",
   "execution_count": 11,
   "id": "e5c762c0-ab1f-4232-bd26-b34d02ef61ba",
   "metadata": {},
   "outputs": [
    {
     "name": "stdout",
     "output_type": "stream",
     "text": [
      "45.0\n",
      "89.42706130231653\n",
      "-26.56505117707799\n"
     ]
    }
   ],
   "source": [
    "# what does this do? \n",
    "\n",
    "func_3 = lambda x, y: np.arctan(y/x)*180/np.pi \n",
    "\n",
    "print(func_3(4,4))\n",
    "print(func_3(1,100))\n",
    "print(func_3(2,-1))"
   ]
  },
  {
   "cell_type": "code",
   "execution_count": 12,
   "id": "5d1c1c5a-9236-4558-afe5-5f8e2e0cdb9a",
   "metadata": {},
   "outputs": [
    {
     "data": {
      "text/plain": [
       "np.float64(34.0)"
      ]
     },
     "execution_count": 12,
     "metadata": {},
     "output_type": "execute_result"
    }
   ],
   "source": [
    "# for a real anonymous version, you dont even need to use a name of the function ...\n",
    "\n",
    "(lambda x: 3*np.sqrt(x)+4)(100)"
   ]
  },
  {
   "cell_type": "code",
   "execution_count": 13,
   "id": "c2ad7a59-1da1-41d2-9f89-ac5141a91a4e",
   "metadata": {},
   "outputs": [
    {
     "name": "stdout",
     "output_type": "stream",
     "text": [
      "True\n",
      "False\n"
     ]
    }
   ],
   "source": [
    "print((lambda s: s[0]=='W' and s[1]=='a')('Wally'))\n",
    "print((lambda s: s[0]=='W' and s[1]=='a')('Danny'))"
   ]
  },
  {
   "cell_type": "markdown",
   "id": "03013a51-7bd0-4b38-a6bb-83a640e5a9ef",
   "metadata": {},
   "source": [
    "## Task 3: map(), filter(), and reduce() \n",
    "\n",
    "These are great tools for lists (or other iterable objects) ... \n",
    "\n",
    "https://stackabuse.com/map-filter-and-reduce-in-python-with-examples/"
   ]
  },
  {
   "cell_type": "code",
   "execution_count": 14,
   "id": "4dd7c079-8df4-4c5b-8e7e-ab16d8e52ae9",
   "metadata": {},
   "outputs": [
    {
     "name": "stdout",
     "output_type": "stream",
     "text": [
      "[np.int32(8), np.int32(78), np.int32(81), np.int32(74), np.int32(26), np.int32(89), np.int32(72), np.int32(1), np.int32(26), np.int32(23), np.int32(100), np.int32(59), np.int32(94), np.int32(2), np.int32(71), np.int32(45), np.int32(5), np.int32(19), np.int32(51), np.int32(71), np.int32(70), np.int32(64)]\n",
      "['Fail', 'Pass', 'Pass', 'Pass', 'Fail', 'Pass', 'Pass', 'Fail', 'Fail', 'Fail', 'Pass', 'Fail', 'Pass', 'Fail', 'Pass', 'Fail', 'Fail', 'Fail', 'Fail', 'Pass', 'Pass', 'Pass']\n"
     ]
    }
   ],
   "source": [
    "# map is a quick way to apply a function across elements of a list or array\n",
    "\n",
    "def grade_func(x):\n",
    "    if x>=60:\n",
    "        return 'Pass'\n",
    "    else:\n",
    "        return 'Fail'\n",
    "    \n",
    "scores = np.random.randint(0,101,22)\n",
    "\n",
    "results = map(grade_func,scores)\n",
    "\n",
    "# note: this produces a 'map' object that we can cast to a list or array\n",
    "\n",
    "print(list(scores))\n",
    "print(list(results))"
   ]
  },
  {
   "cell_type": "code",
   "execution_count": null,
   "id": "8ddea9bb-31dc-4398-9ab3-aa90ed6b8b21",
   "metadata": {},
   "outputs": [],
   "source": [
    "# filter is similar, but used to accept/reject elements based on a test\n",
    "\n",
    "def is_passing(x):\n",
    "    return x>=60\n",
    "\n",
    "scores = np.random.randint(0,101,17)\n",
    "good_scores = filter(is_passing,scores)\n",
    "\n",
    "print('original :',list(scores))\n",
    "print('filtered :',list(good_scores))\n",
    "\n",
    "# or all in one ... \n",
    "\n",
    "print(list(filter((lambda x: x>=60),scores)))"
   ]
  },
  {
   "cell_type": "code",
   "execution_count": 15,
   "id": "312f39a2-ac6a-4f38-b13c-098209fae70c",
   "metadata": {},
   "outputs": [
    {
     "name": "stdout",
     "output_type": "stream",
     "text": [
      "7\n",
      "31\n",
      "aabaabcaabaabcd\n"
     ]
    }
   ],
   "source": [
    "# and finally, 'reduce' will apply a binary operation to pairs of a list/array\n",
    "\n",
    "from functools import reduce\n",
    "\n",
    "funky_add = lambda x,y: 2*x+y\n",
    "\n",
    "print(funky_add(2,3))\n",
    "\n",
    "data = [1,1,1,1,1]\n",
    "print(reduce(funky_add,data))\n",
    "\n",
    "print(reduce(funky_add,['a','b','c','d']))"
   ]
  },
  {
   "cell_type": "markdown",
   "id": "167bec5b-ad3a-44cc-8cca-b03fe2748a07",
   "metadata": {},
   "source": [
    "### now predict the output for each of the following:"
   ]
  },
  {
   "cell_type": "code",
   "execution_count": 16,
   "id": "1f336889-1469-4278-8c4a-85eb343c3963",
   "metadata": {},
   "outputs": [
    {
     "data": {
      "text/plain": [
       "6"
      ]
     },
     "execution_count": 16,
     "metadata": {},
     "output_type": "execute_result"
    }
   ],
   "source": [
    "data=[1,-2,5,4,3,-6,0,3,4,-1,2]\n",
    "\n",
    "reduce((lambda x,y: max(abs(x),abs(y))),data)"
   ]
  },
  {
   "cell_type": "code",
   "execution_count": 20,
   "id": "36f0e549-9a06-4481-b638-dacec0409ad4",
   "metadata": {},
   "outputs": [
    {
     "data": {
      "text/plain": [
       "'friendoldmydarknessHello'"
      ]
     },
     "execution_count": 20,
     "metadata": {},
     "output_type": "execute_result"
    }
   ],
   "source": [
    "data=['Hello','darkness','my','old','friend']\n",
    "\n",
    "reduce((lambda x,y:y+x),data)\n"
   ]
  },
  {
   "cell_type": "markdown",
   "id": "49fd6a18-c4ee-4029-ac57-7b78e6b26e09",
   "metadata": {},
   "source": [
    "## Class Exercises"
   ]
  },
  {
   "cell_type": "markdown",
   "id": "c6b32308-6c0e-4fa1-b3d6-14ecf0f0e458",
   "metadata": {},
   "source": [
    "(1a) Write a function that adds an exclamation mark to the end of a string passed into it.  \n",
    "\n",
    "(1b) Create a list of strings and map this function to all strings in it.  "
   ]
  },
  {
   "cell_type": "code",
   "execution_count": 24,
   "id": "62bad63f-6ec8-4c8b-8264-7e0bed8451a9",
   "metadata": {},
   "outputs": [
    {
     "name": "stdout",
     "output_type": "stream",
     "text": [
      "David!\n",
      "['David!', 'Paul!', 'Peter!']\n"
     ]
    }
   ],
   "source": [
    "def exclamation(my_str):\n",
    "    my_str += \"!\"\n",
    "    return my_str\n",
    "\n",
    "my_lst = ['David','Paul', 'Peter']\n",
    "result = map(exclamation, my_lst)\n",
    "print(exclamation(\"David\"))\n",
    "print(list(result))"
   ]
  },
  {
   "cell_type": "markdown",
   "id": "55518445-542f-4ad1-8e5a-b2656857778f",
   "metadata": {},
   "source": [
    "(2a) Write a function that takes in a numerical grade (0-100) and returns the corresponding letter grade (i.e., 'A', 'B', 'C', 'D', or 'F').\n",
    "\n",
    "(2b) Create an array of 50 random integers from 0-100 and map this function to all values.  \n"
   ]
  },
  {
   "cell_type": "code",
   "execution_count": 33,
   "id": "5521a783-fc2b-4747-a775-489e44dae7fe",
   "metadata": {},
   "outputs": [
    {
     "name": "stdout",
     "output_type": "stream",
     "text": [
      "[ 10  10  37   8  21  67  64  42 100  81  89  96  21  38  53  78  77  38\n",
      "  79  54  85  70  20  45  20  93  48  32  17   9  51  78  19  39   1  63\n",
      "  25  43  21  28  66  24  38  23  12  85  79  32   3  33]\n",
      "['F', 'F', 'F', 'F', 'F', 'D', 'D', 'F', 'A', 'B', 'B', 'A', 'F', 'F', 'F', 'C', 'C', 'F', 'C', 'F', 'B', 'F', 'F', 'F', 'F', 'A', 'F', 'F', 'F', 'F', 'F', 'C', 'F', 'F', 'F', 'D', 'F', 'F', 'F', 'F', 'D', 'F', 'F', 'F', 'F', 'B', 'C', 'F', 'F', 'F']\n"
     ]
    }
   ],
   "source": [
    "def grade(num):\n",
    "    if num < 0 or num > 100:\n",
    "        return \"Invalid\"\n",
    "    else:\n",
    "        if num > 90:\n",
    "            return \"A\"\n",
    "        elif num > 80 and num <= 89:\n",
    "            return \"B\"\n",
    "        elif num > 70 and num <= 79:\n",
    "            return \"C\"\n",
    "        elif num > 60 and num <= 69:\n",
    "            return \"D\"\n",
    "        else:\n",
    "            return \"F\"\n",
    "\n",
    "lst_grades = np.random.randint(0,101,50)\n",
    "\n",
    "result = map(grade, lst_grades)\n",
    "print(lst_grades)\n",
    "print(list(result))"
   ]
  },
  {
   "cell_type": "markdown",
   "id": "165b84c4-fe8c-47a9-a5f8-8a743bad76b5",
   "metadata": {},
   "source": [
    "(3a)  Write a function called **spread** that returns the maximum difference between any two values in a list/array passed into it (e.g, [3, 6, 2, 9, 8, 1, 4] has a spread of 8).  \n",
    "\n",
    "(3b) Create an array of dimension $10\\times 5$ with random integers with values 1-100 and then map this function to all rows of the data.\n"
   ]
  },
  {
   "cell_type": "code",
   "execution_count": null,
   "id": "e8a1f291-2cfb-4adc-b6d2-1ee1392202ad",
   "metadata": {},
   "outputs": [],
   "source": [
    "data=np.random.randint(1,100,(10,5))\n",
    "data"
   ]
  },
  {
   "cell_type": "code",
   "execution_count": null,
   "id": "ad07fb61-a59d-4ef5-b4bd-32d9b857621b",
   "metadata": {},
   "outputs": [],
   "source": []
  }
 ],
 "metadata": {
  "kernelspec": {
   "display_name": "Python 3",
   "language": "python",
   "name": "python3"
  },
  "language_info": {
   "codemirror_mode": {
    "name": "ipython",
    "version": 3
   },
   "file_extension": ".py",
   "mimetype": "text/x-python",
   "name": "python",
   "nbconvert_exporter": "python",
   "pygments_lexer": "ipython3",
   "version": "3.13.1"
  }
 },
 "nbformat": 4,
 "nbformat_minor": 5
}
