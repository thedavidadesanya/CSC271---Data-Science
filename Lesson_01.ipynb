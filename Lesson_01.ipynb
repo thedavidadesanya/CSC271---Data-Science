{
 "cells": [
  {
   "cell_type": "markdown",
   "id": "edc26b4d-e416-47d0-baaa-533812ca3a11",
   "metadata": {},
   "source": [
    "## CSC 271 - Intro to Data Science\n",
    "## Thurs, Jan 23\n",
    "## Lesson 01\n",
    "## Lists vs. arrays, statistics, and basic plotting"
   ]
  },
  {
   "cell_type": "code",
   "execution_count": 2,
   "id": "ba6ec6a4-a5bd-488c-8cda-0d0721b9e235",
   "metadata": {},
   "outputs": [],
   "source": [
    "import numpy as np\n",
    "import matplotlib.pyplot as plt\n",
    "import statistics as stats"
   ]
  },
  {
   "cell_type": "markdown",
   "id": "b134e190-7ad4-46c3-81e3-a5879ff88c8e",
   "metadata": {},
   "source": [
    "Today we'll use numpy and matplotlib tools and a few functions from statistics"
   ]
  },
  {
   "cell_type": "code",
   "execution_count": null,
   "id": "5752b624-4edc-4bb7-92ee-f3e48dbfdb7b",
   "metadata": {},
   "outputs": [],
   "source": [
    "# note: if you don't have a package installed, then you can often quickly add it through pip like the following:\n",
    "\n",
    "!pip install matplotlib"
   ]
  },
  {
   "cell_type": "markdown",
   "id": "10bdd8d8-d0dc-4d60-bd22-a042138893c0",
   "metadata": {
    "jp-MarkdownHeadingCollapsed": true
   },
   "source": [
    "## Task 1: Lists and Arrays -- what's the difference?\n",
    "\n",
    "https://numpy.org/doc/stable/reference/generated/numpy.array.html"
   ]
  },
  {
   "cell_type": "code",
   "execution_count": 4,
   "id": "59fbd248-de93-432b-9990-f63bb47888e8",
   "metadata": {},
   "outputs": [
    {
     "name": "stdout",
     "output_type": "stream",
     "text": [
      "<class 'list'>\n",
      "<class 'numpy.ndarray'>\n"
     ]
    }
   ],
   "source": [
    "lst = [3, 4, 5, 6]\n",
    "arr = np.array([2, 4, 6, 8])\n",
    "\n",
    "print(type(lst))\n",
    "print(type(arr))"
   ]
  },
  {
   "cell_type": "code",
   "execution_count": 5,
   "id": "5221df8f-6125-4c41-be2d-8d3c1f3a4213",
   "metadata": {},
   "outputs": [
    {
     "name": "stdout",
     "output_type": "stream",
     "text": [
      "arr =  [2 4 6 8]\n",
      "arr+1 =  [3 5 7 9]\n",
      "2*arr =  [ 4  8 12 16]\n",
      "arr**2 =  [  4  16  64 256]\n",
      "arr/arr =  [1. 1. 1. 1.]\n",
      "arr/max(arr) =  [0.25 0.5  0.75 1.  ]\n",
      "np.sin(arr) =  [ 0.90929743 -0.7568025  -0.2794155   0.98935825]\n"
     ]
    }
   ],
   "source": [
    "print('arr = ',arr)    #prints the array\n",
    "print('arr+1 = ',arr+1)  #this adds one to every number in the array\n",
    "print('2*arr = ',2*arr)  #multiplies each element in the array by two\n",
    "print('arr**2 = ',2**arr) #exponent each element by 2\n",
    "print('arr/arr = ',arr/arr) #divides an array by an array (element by element)\n",
    "print('arr/max(arr) = ',arr/max(arr)) #divides the elements in the array by the maximum number in the array\n",
    "print('np.sin(arr) = ',np.sin(arr)) #sin function taking the sine of the elements\n",
    "\n",
    "# Try some of these with lists and see what happens :)"
   ]
  },
  {
   "cell_type": "code",
   "execution_count": 6,
   "id": "2bde0f5e-85cc-45dd-85d3-8d88fb1218c4",
   "metadata": {},
   "outputs": [
    {
     "data": {
      "text/plain": [
       "[np.int64(2), np.int64(4), np.int64(6), np.int64(8)]"
      ]
     },
     "execution_count": 6,
     "metadata": {},
     "output_type": "execute_result"
    }
   ],
   "source": [
    "# easily convert an array to a list \n",
    "list(arr)"
   ]
  },
  {
   "cell_type": "code",
   "execution_count": 7,
   "id": "0480f598-34f4-436b-8f7c-9707981e79f8",
   "metadata": {},
   "outputs": [
    {
     "data": {
      "text/plain": [
       "array([3, 4, 5, 6])"
      ]
     },
     "execution_count": 7,
     "metadata": {},
     "output_type": "execute_result"
    }
   ],
   "source": [
    "# easily convert a list to an array \n",
    "np.array(lst)"
   ]
  },
  {
   "cell_type": "markdown",
   "id": "35aee614-b06a-4f39-83f2-b5d9a1d11716",
   "metadata": {},
   "source": [
    "---\n",
    " Very often there are many ways to accomplish a task ... and sometimes there is a big difference in efficiency.  For numerical tasks, arrays can use *broadcasting* and *vectorization* ... leading to some great speedups.  "
   ]
  },
  {
   "cell_type": "markdown",
   "id": "fff286dc-bcf7-46e5-b43d-ddc5b3bdec2e",
   "metadata": {},
   "source": [
    "https://numpy.org/doc/stable/user/basics.broadcasting.html"
   ]
  },
  {
   "cell_type": "code",
   "execution_count": 10,
   "id": "766cecc5-177b-48ad-92b1-39df73f2583d",
   "metadata": {},
   "outputs": [
    {
     "data": {
      "text/plain": [
       "array([0.72936869, 0.06086282, 0.09385946, ..., 0.07660809, 0.2128602 ,\n",
       "       0.03927578], shape=(10000,))"
      ]
     },
     "execution_count": 10,
     "metadata": {},
     "output_type": "execute_result"
    }
   ],
   "source": [
    "# an illustration of how vectorization can speed things up\n",
    "arr = np.random.rand(10000)\n",
    "arr #prints the arr"
   ]
  },
  {
   "cell_type": "code",
   "execution_count": 13,
   "id": "981c893b-c65d-4ad4-b020-00b4068b22ff",
   "metadata": {},
   "outputs": [
    {
     "name": "stdout",
     "output_type": "stream",
     "text": [
      "673 μs ± 118 μs per loop (mean ± std. dev. of 7 runs, 100 loops each)\n"
     ]
    }
   ],
   "source": [
    "%%timeit -n 100  #magic function \"%%\" --> python magic function\n",
    "total = 0\n",
    "for val in arr:\n",
    "    total+=val\n",
    "avg = total/len(arr)"
   ]
  },
  {
   "cell_type": "code",
   "execution_count": 14,
   "id": "8c683a5b-b7fa-4ff0-9d05-5b0e8a664ba4",
   "metadata": {},
   "outputs": [
    {
     "name": "stdout",
     "output_type": "stream",
     "text": [
      "6.84 μs ± 1.43 μs per loop (mean ± std. dev. of 7 runs, 100 loops each)\n"
     ]
    }
   ],
   "source": [
    "%%timeit -n 100\n",
    "np.sum(arr)/len(arr)   #sum function helps to add it all up samething as the above cell."
   ]
  },
  {
   "cell_type": "markdown",
   "id": "5ec89ffc-87c0-45c8-8f75-424fd9bee2b9",
   "metadata": {},
   "source": [
    "Note: the magic command %%timeit is a nice iPython trick for timing executions\n",
    "\n",
    "https://ipython.readthedocs.io/en/stable/interactive/magics.html#magic-timeit"
   ]
  },
  {
   "cell_type": "markdown",
   "id": "e366fc43-ef5c-4b6e-9fdf-041e8f5509ab",
   "metadata": {
    "jp-MarkdownHeadingCollapsed": true
   },
   "source": [
    "## Task 2: statistics and more slicing and filtering\n",
    "\n",
    "https://docs.python.org/3.6/library/statistics.html"
   ]
  },
  {
   "cell_type": "code",
   "execution_count": 15,
   "id": "8aee3d71-ef04-43d0-9419-e66256b28039",
   "metadata": {},
   "outputs": [],
   "source": [
    "# Let's generate some data to practice some tools with\n",
    "\n",
    "data = np.random.randint(1,100,500)"
   ]
  },
  {
   "cell_type": "code",
   "execution_count": 16,
   "id": "02363a11-7d8e-4091-98c3-8dbf6bc28a8c",
   "metadata": {},
   "outputs": [
    {
     "name": "stdout",
     "output_type": "stream",
     "text": [
      "49\n",
      "49.0\n",
      "60\n",
      "814\n"
     ]
    }
   ],
   "source": [
    "# there are a ton of good tools in the statistics library\n",
    "\n",
    "print(stats.mean(data))  #average of the data\n",
    "print(stats.median(data)) #middle numbers\n",
    "print(stats.mode(data))  #numbers that appears the most\n",
    "print(stats.variance(data)) #this measures how spread out apart the numbers are"
   ]
  },
  {
   "cell_type": "code",
   "execution_count": 17,
   "id": "5ae3af54-fea6-4111-b690-2bf33c6640c3",
   "metadata": {},
   "outputs": [
    {
     "data": {
      "text/plain": [
       "array([ 6,  9, 37, 86, 80, 50, 14, 61, 52,  3], dtype=int32)"
      ]
     },
     "execution_count": 17,
     "metadata": {},
     "output_type": "execute_result"
    }
   ],
   "source": [
    "# peek at the first few items with a slice ...\n",
    "data[:10]"
   ]
  },
  {
   "cell_type": "code",
   "execution_count": 18,
   "id": "8b3d68ba-abcc-445a-98bc-2fd4c364c6b7",
   "metadata": {},
   "outputs": [
    {
     "name": "stdout",
     "output_type": "stream",
     "text": [
      "243\n",
      "257\n"
     ]
    }
   ],
   "source": [
    "# use list comprehensions to do some simple filtering ...\n",
    "data_even = [x for x in data if x%2==0]\n",
    "data_odd = [x for x in data if x%2==1] \n",
    "print(len(data_even))\n",
    "print(len(data_odd))"
   ]
  },
  {
   "cell_type": "code",
   "execution_count": 21,
   "id": "50b10bf9-b6e3-41ba-be4e-3c1070dad9b4",
   "metadata": {},
   "outputs": [
    {
     "data": {
      "text/plain": [
       "[np.int32(9),\n",
       " np.int32(37),\n",
       " np.int32(61),\n",
       " np.int32(3),\n",
       " np.int32(17),\n",
       " np.int32(47),\n",
       " np.int32(65),\n",
       " np.int32(21),\n",
       " np.int32(9),\n",
       " np.int32(15)]"
      ]
     },
     "execution_count": 21,
     "metadata": {},
     "output_type": "execute_result"
    }
   ],
   "source": [
    "data_odd[:10]"
   ]
  },
  {
   "cell_type": "code",
   "execution_count": 20,
   "id": "6cf22aa3-dd78-4232-a3f0-8dddb9a48823",
   "metadata": {},
   "outputs": [
    {
     "data": {
      "text/plain": [
       "[np.int32(6),\n",
       " np.int32(86),\n",
       " np.int32(80),\n",
       " np.int32(50),\n",
       " np.int32(14),\n",
       " np.int32(52),\n",
       " np.int32(92),\n",
       " np.int32(24),\n",
       " np.int32(46),\n",
       " np.int32(88)]"
      ]
     },
     "execution_count": 20,
     "metadata": {},
     "output_type": "execute_result"
    }
   ],
   "source": [
    "data_even[:10]"
   ]
  },
  {
   "cell_type": "code",
   "execution_count": 24,
   "id": "f5e44207-5275-4041-8448-3163366a1b61",
   "metadata": {},
   "outputs": [
    {
     "name": "stdout",
     "output_type": "stream",
     "text": [
      "[80 50 60 60 60 80 30 50 60 90 90 10 70 90 10 70 80 20 10 60 30 70 40 90\n",
      " 30 60 30 80 80 30 70 30 50 10 50 20 40 90 40 90 50 60 60 90 60 50 60 60\n",
      " 90 40 90 40 80 30 60 50 10 40]\n"
     ]
    }
   ],
   "source": [
    "#%%timeit -n 100\n",
    "# here's another method of filtering ... this mode of thinking will come in handy\n",
    "data_mask = data%10==0   #data masking returns true or false if the mod of the data by 10 is 0 or more\n",
    "#print(data)\n",
    "#print(data_mask)\n",
    "print(data[data_mask]) #data mask is used as index to get numbers divisible by 10 in data, kinda like a slicing operator"
   ]
  },
  {
   "cell_type": "markdown",
   "id": "6c823301-98ec-4205-bb2d-2ac1f95bc2a6",
   "metadata": {
    "jp-MarkdownHeadingCollapsed": true
   },
   "source": [
    "## Task 3: Basic plotting using tools from matplotlib\n",
    "\n",
    "https://matplotlib.org/stable/tutorials/index.html"
   ]
  },
  {
   "cell_type": "code",
   "execution_count": 25,
   "id": "72bd0737-8a0a-486f-9a55-b4b117fe5814",
   "metadata": {},
   "outputs": [
    {
     "data": {
      "image/png": "[encoded data removed]",
      "text/plain": [
       "<Figure size 640x480 with 1 Axes>"
      ]
     },
     "metadata": {},
     "output_type": "display_data"
    }
   ],
   "source": [
    "# we'll stick with lists for some basic plotting\n",
    "x = [1, 2, 3, 4, 5, 6, 7, 8, 9, 10]\n",
    "y = [6, 4, 7, 3, 1, 4, 1, 4, 6, 8]\n",
    "p = plt.plot(x,y)\n",
    "plt.show()"
   ]
  },
  {
   "cell_type": "code",
   "execution_count": 26,
   "id": "00cfa7f8-1bed-417d-814a-3f7799befcda",
   "metadata": {},
   "outputs": [
    {
     "data": {
      "text/plain": [
       "<matplotlib.collections.PathCollection at 0x1bbf96c1a90>"
      ]
     },
     "execution_count": 26,
     "metadata": {},
     "output_type": "execute_result"
    },
    {
     "data": {
      "image/png": "[encoded data removed]",
      "text/plain": [
       "<Figure size 640x480 with 1 Axes>"
      ]
     },
     "metadata": {},
     "output_type": "display_data"
    }
   ],
   "source": [
    "plt.scatter(x,y)"
   ]
  },
  {
   "cell_type": "code",
   "execution_count": 29,
   "id": "5fafe2d4-9fcb-439a-ab09-011730d35196",
   "metadata": {},
   "outputs": [
    {
     "data": {
      "image/png": "[encoded data removed]",
      "text/plain": [
       "<Figure size 640x480 with 1 Axes>"
      ]
     },
     "metadata": {},
     "output_type": "display_data"
    }
   ],
   "source": [
    "# there are many options we can use to make our plots nice looking ...\n",
    "\n",
    "fig1, ax = plt.subplots(1,1)\n",
    "ax.set_box_aspect(1/1.618)\n",
    "plt.plot(x,y,c='red')\n",
    "plt.scatter(x,y,s=50,c='gray')\n",
    "plt.title('a plot of y vs. x')\n",
    "plt.text(4,5,'data values')\n",
    "plt.axis([0,12,0,9])\n",
    "plt.grid(True)\n",
    "ax.set_ylabel('y')\n",
    "ax.set_xlabel('x')\n",
    "plt.show()"
   ]
  },
  {
   "cell_type": "code",
   "execution_count": 4,
   "id": "1bada9d7-f617-493d-a353-b5933dc9e36d",
   "metadata": {},
   "outputs": [
    {
     "name": "stderr",
     "output_type": "stream",
     "text": [
      "<>:12: SyntaxWarning: invalid escape sequence '\\|'\n",
      "<>:12: SyntaxWarning: invalid escape sequence '\\|'\n",
      "C:\\Users\\User\\AppData\\Local\\Temp\\ipykernel_2396\\2978032393.py:12: SyntaxWarning: invalid escape sequence '\\|'\n",
      "  plt.text(0,6,'$f(x) = x+2\\|\\sin(x)\\|$')\n"
     ]
    },
    {
     "data": {
      "image/png": "[encoded data removed]",
      "text/plain": [
       "<Figure size 640x480 with 1 Axes>"
      ]
     },
     "metadata": {},
     "output_type": "display_data"
    },
    {
     "name": "stdout",
     "output_type": "stream",
     "text": [
      "1000\n"
     ]
    }
   ],
   "source": [
    "# We can also use our own functions and numpy tools to create plots. \n",
    "\n",
    "def f(x_val):\n",
    "    return x_val + 2*np.abs(np.sin(x_val))\n",
    "\n",
    "pi=np.pi \n",
    "x=np.linspace(-pi,3*pi,1000) #creates evenly spaced numbers\n",
    "y=f(x)\n",
    "\n",
    "fig1, ax = plt.subplots(1,1)\n",
    "plt.plot(x,y,c='orange')\n",
    "plt.text(0,6,'$f(x) = x+2\\|\\sin(x)\\|$')\n",
    "ax.set_ylabel('f(x)')\n",
    "ax.set_xlabel('x')\n",
    "plt.show()\n",
    "print(len(x))"
   ]
  },
  {
   "cell_type": "code",
   "execution_count": 31,
   "id": "ca1b3c59-3542-4de1-9943-ff909f0be92d",
   "metadata": {},
   "outputs": [
    {
     "data": {
      "text/plain": [
       "array([ 0.24145749,  0.86087071,  0.34854821, -0.62204151, -0.29943004,\n",
       "       -0.75255723, -1.82943397,  0.4315524 , -1.58601565,  0.07128114,\n",
       "       -0.09062437, -2.84101675,  0.17006935,  0.7209311 , -1.23574528,\n",
       "        0.76833023,  0.41708501, -0.20820391, -1.65715247,  0.29694972])"
      ]
     },
     "execution_count": 31,
     "metadata": {},
     "output_type": "execute_result"
    }
   ],
   "source": [
    "# Let's go back to some random data \n",
    "\n",
    "data=np.random.randn(10000)\n",
    "data[:20]"
   ]
  },
  {
   "cell_type": "code",
   "execution_count": 32,
   "id": "8206998d-cd65-4b29-8d4c-366ea55057bf",
   "metadata": {},
   "outputs": [
    {
     "data": {
      "image/png": "[encoded data removed]",
      "text/plain": [
       "<Figure size 640x480 with 1 Axes>"
      ]
     },
     "metadata": {},
     "output_type": "display_data"
    },
    {
     "name": "stdout",
     "output_type": "stream",
     "text": [
      "min =  -4.257208618448726\n",
      "max =  3.697771107853858\n"
     ]
    }
   ],
   "source": [
    "# a basic histogram of the data\n",
    "plt.hist(data,bins=30)\n",
    "plt.show()\n",
    "\n",
    "print('min = ',data.min())\n",
    "print('max = ',data.max())"
   ]
  },
  {
   "cell_type": "code",
   "execution_count": 33,
   "id": "0663733e-278e-4303-a9f4-9a9fe637c4a9",
   "metadata": {},
   "outputs": [
    {
     "name": "stdout",
     "output_type": "stream",
     "text": [
      " About 0.2 % of the values are more than 3 standard deviations from the mean\n"
     ]
    }
   ],
   "source": [
    "# a quick exercise ... filter and count extreme values \n",
    "\n",
    "data_outliers = [x for x in data if x>3 or x<-3]\n",
    "\n",
    "num_outliers = len(data_outliers)\n",
    "num_total = len(data)\n",
    "\n",
    "print(' About',100*num_outliers/num_total,'% of the values are more than 3 standard deviations from the mean')"
   ]
  },
  {
   "cell_type": "code",
   "execution_count": 34,
   "id": "5a9e08ac-fd71-497c-b501-0699bbbb2c83",
   "metadata": {},
   "outputs": [
    {
     "name": "stdout",
     "output_type": "stream",
     "text": [
      " About 67.78 % of the values are within 1 standard deviation from the mean\n"
     ]
    }
   ],
   "source": [
    "# a similar approach using a mask\n",
    "\n",
    "mask = (data>-1) & (data<1)\n",
    "\n",
    "data_mid=data[mask]\n",
    "num_middle = len(data_mid)\n",
    "num_total = len(data)\n",
    "\n",
    "print(' About',100*num_middle/num_total,'% of the values are within 1 standard deviation from the mean')"
   ]
  },
  {
   "cell_type": "markdown",
   "id": "b064b93b-3260-462b-a465-f01aa7286dbd",
   "metadata": {},
   "source": [
    "## Task 4: Computing and visualizing a Random Walk"
   ]
  },
  {
   "cell_type": "code",
   "execution_count": null,
   "id": "44033bce-45c6-40a9-93be-bb5a46c97121",
   "metadata": {},
   "outputs": [],
   "source": []
  }
 ],
 "metadata": {
  "kernelspec": {
   "display_name": "Python 3",
   "language": "python",
   "name": "python3"
  },
  "language_info": {
   "codemirror_mode": {
    "name": "ipython",
    "version": 3
   },
   "file_extension": ".py",
   "mimetype": "text/x-python",
   "name": "python",
   "nbconvert_exporter": "python",
   "pygments_lexer": "ipython3",
   "version": "3.13.1"
  },
  "widgets": {
   "application/vnd.jupyter.widget-state+json": {
    "state": {},
    "version_major": 2,
    "version_minor": 0
   }
  }
 },
 "nbformat": 4,
 "nbformat_minor": 5
}
